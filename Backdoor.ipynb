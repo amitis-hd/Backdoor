{
  "cells": [
    {
      "cell_type": "markdown",
      "metadata": {
        "id": "view-in-github",
        "colab_type": "text"
      },
      "source": [
        "<a href=\"https://colab.research.google.com/github/amitis-hd/Backdoor/blob/main/Backdoor.ipynb\" target=\"_parent\"><img src=\"https://colab.research.google.com/assets/colab-badge.svg\" alt=\"Open In Colab\"/></a>"
      ]
    },
    {
      "cell_type": "code",
      "execution_count": null,
      "metadata": {
        "id": "CRSe5QqbwB7M"
      },
      "outputs": [],
      "source": [
        "import pandas as pd\n",
        "import numpy as np\n",
        "import matplotlib.pyplot as plt\n",
        "from scipy.stats import norm\n",
        "import random\n",
        "import graphviz\n",
        "import xgboost\n",
        "\n",
        "from sklearn.preprocessing import LabelEncoder\n",
        "\n",
        "\n",
        "from typing import Any\n",
        "\n",
        "from sklearn.model_selection import train_test_split\n",
        "from sklearn.model_selection import GridSearchCV\n",
        "from sklearn.model_selection import cross_val_score\n",
        "from sklearn.metrics import accuracy_score\n",
        "\n",
        "from xgboost import XGBClassifier\n",
        "\n",
        "# Silence warnings\n",
        "import warnings\n",
        "warnings.filterwarnings('ignore')"
      ]
    },
    {
      "cell_type": "code",
      "source": [
        "!pip install cython==0.29.23\n",
        "!pip install configargparse==1.5.2\n",
        "!pip install xlrd==2.0.1\n",
        "!pip install openpyxl==3.0.7\n",
        "!pip install mat73==0.50\n",
        "!pip install numpy==1.22.0\n",
        "!pip install scikit-learn==0.24.2\n",
        "!pip install catboost==0.26\n",
        "!pip install lightgbm==3.3.5\n",
        "!pip install xgboost==2.0.3\n",
        "!pip install torch==1.9.0\n",
        "!pip install pandas==1.3.1\n",
        "!pip install tqdm==4.61.2\n",
        "!pip install seaborn==0.11.1\n",
        "!pip install matplotlib==3.4.2\n",
        "!pip install twine==3.8.0"
      ],
      "metadata": {
        "colab": {
          "base_uri": "https://localhost:8080/",
          "height": 1000
        },
        "id": "tYTyumAqHe4c",
        "outputId": "87c0cd48-6d74-4490-c0c4-869f19c64ebe"
      },
      "execution_count": null,
      "outputs": [
        {
          "output_type": "stream",
          "name": "stdout",
          "text": [
            "Collecting cython==0.29.23\n",
            "  Downloading Cython-0.29.23-py2.py3-none-any.whl.metadata (2.7 kB)\n",
            "Downloading Cython-0.29.23-py2.py3-none-any.whl (978 kB)\n",
            "\u001b[2K   \u001b[90m━━━━━━━━━━━━━━━━━━━━━━━━━━━━━━━━━━━━━━━━\u001b[0m \u001b[32m978.0/978.0 kB\u001b[0m \u001b[31m2.4 MB/s\u001b[0m eta \u001b[36m0:00:00\u001b[0m\n",
            "\u001b[?25hInstalling collected packages: cython\n",
            "  Attempting uninstall: cython\n",
            "    Found existing installation: Cython 3.0.10\n",
            "    Uninstalling Cython-3.0.10:\n",
            "      Successfully uninstalled Cython-3.0.10\n",
            "Successfully installed cython-0.29.23\n",
            "Collecting configargparse==1.5.2\n",
            "  Downloading ConfigArgParse-1.5.2-py3-none-any.whl.metadata (18 kB)\n",
            "Downloading ConfigArgParse-1.5.2-py3-none-any.whl (20 kB)\n",
            "Installing collected packages: configargparse\n",
            "Successfully installed configargparse-1.5.2\n",
            "Requirement already satisfied: xlrd==2.0.1 in /usr/local/lib/python3.10/dist-packages (2.0.1)\n",
            "Collecting openpyxl==3.0.7\n",
            "  Downloading openpyxl-3.0.7-py2.py3-none-any.whl.metadata (2.4 kB)\n",
            "Requirement already satisfied: et-xmlfile in /usr/local/lib/python3.10/dist-packages (from openpyxl==3.0.7) (1.1.0)\n",
            "Downloading openpyxl-3.0.7-py2.py3-none-any.whl (243 kB)\n",
            "\u001b[2K   \u001b[90m━━━━━━━━━━━━━━━━━━━━━━━━━━━━━━━━━━━━━━━━\u001b[0m \u001b[32m243.2/243.2 kB\u001b[0m \u001b[31m1.3 MB/s\u001b[0m eta \u001b[36m0:00:00\u001b[0m\n",
            "\u001b[?25hInstalling collected packages: openpyxl\n",
            "  Attempting uninstall: openpyxl\n",
            "    Found existing installation: openpyxl 3.1.5\n",
            "    Uninstalling openpyxl-3.1.5:\n",
            "      Successfully uninstalled openpyxl-3.1.5\n",
            "Successfully installed openpyxl-3.0.7\n",
            "Collecting mat73==0.50\n",
            "  Downloading mat73-0.50-py3-none-any.whl.metadata (2.9 kB)\n",
            "Requirement already satisfied: h5py in /usr/local/lib/python3.10/dist-packages (from mat73==0.50) (3.11.0)\n",
            "Requirement already satisfied: numpy in /usr/local/lib/python3.10/dist-packages (from mat73==0.50) (1.26.4)\n",
            "Downloading mat73-0.50-py3-none-any.whl (17 kB)\n",
            "Installing collected packages: mat73\n",
            "Successfully installed mat73-0.50\n",
            "Collecting numpy==1.22.0\n",
            "  Downloading numpy-1.22.0-cp310-cp310-manylinux_2_17_x86_64.manylinux2014_x86_64.whl.metadata (2.0 kB)\n",
            "Downloading numpy-1.22.0-cp310-cp310-manylinux_2_17_x86_64.manylinux2014_x86_64.whl (16.8 MB)\n",
            "\u001b[2K   \u001b[90m━━━━━━━━━━━━━━━━━━━━━━━━━━━━━━━━━━━━━━━━\u001b[0m \u001b[32m16.8/16.8 MB\u001b[0m \u001b[31m40.3 MB/s\u001b[0m eta \u001b[36m0:00:00\u001b[0m\n",
            "\u001b[?25hInstalling collected packages: numpy\n",
            "  Attempting uninstall: numpy\n",
            "    Found existing installation: numpy 1.26.4\n",
            "    Uninstalling numpy-1.26.4:\n",
            "      Successfully uninstalled numpy-1.26.4\n",
            "\u001b[31mERROR: pip's dependency resolver does not currently take into account all the packages that are installed. This behaviour is the source of the following dependency conflicts.\n",
            "xgboost 2.1.1 requires nvidia-nccl-cu12; platform_system == \"Linux\" and platform_machine != \"aarch64\", which is not installed.\n",
            "albucore 0.0.13 requires numpy<2,>=1.24.4, but you have numpy 1.22.0 which is incompatible.\n",
            "albumentations 1.4.12 requires numpy>=1.24.4, but you have numpy 1.22.0 which is incompatible.\n",
            "arviz 0.18.0 requires numpy<2.0,>=1.23.0, but you have numpy 1.22.0 which is incompatible.\n",
            "astropy 6.1.2 requires numpy>=1.23, but you have numpy 1.22.0 which is incompatible.\n",
            "chex 0.1.86 requires numpy>=1.24.1, but you have numpy 1.22.0 which is incompatible.\n",
            "cudf-cu12 24.4.1 requires numpy<2.0a0,>=1.23, but you have numpy 1.22.0 which is incompatible.\n",
            "librosa 0.10.2.post1 requires numpy!=1.22.0,!=1.22.1,!=1.22.2,>=1.20.3, but you have numpy 1.22.0 which is incompatible.\n",
            "numexpr 2.10.1 requires numpy>=1.23.0, but you have numpy 1.22.0 which is incompatible.\n",
            "pandas 2.1.4 requires numpy<2,>=1.22.4; python_version < \"3.11\", but you have numpy 1.22.0 which is incompatible.\n",
            "pandas-stubs 2.1.4.231227 requires numpy>=1.26.0; python_version < \"3.13\", but you have numpy 1.22.0 which is incompatible.\n",
            "plotnine 0.12.4 requires numpy>=1.23.0, but you have numpy 1.22.0 which is incompatible.\n",
            "rmm-cu12 24.4.0 requires numpy<2.0a0,>=1.23, but you have numpy 1.22.0 which is incompatible.\n",
            "scikit-image 0.23.2 requires numpy>=1.23, but you have numpy 1.22.0 which is incompatible.\n",
            "scipy 1.13.1 requires numpy<2.3,>=1.22.4, but you have numpy 1.22.0 which is incompatible.\n",
            "statsmodels 0.14.2 requires numpy>=1.22.3, but you have numpy 1.22.0 which is incompatible.\n",
            "tensorflow 2.17.0 requires numpy<2.0.0,>=1.23.5; python_version <= \"3.11\", but you have numpy 1.22.0 which is incompatible.\n",
            "xarray 2024.6.0 requires numpy>=1.23, but you have numpy 1.22.0 which is incompatible.\u001b[0m\u001b[31m\n",
            "\u001b[0mSuccessfully installed numpy-1.22.0\n"
          ]
        },
        {
          "output_type": "display_data",
          "data": {
            "application/vnd.colab-display-data+json": {
              "pip_warning": {
                "packages": [
                  "numpy"
                ]
              },
              "id": "6e7312f3b8964dc5810778225d3bb033"
            }
          },
          "metadata": {}
        },
        {
          "output_type": "stream",
          "name": "stdout",
          "text": [
            "Collecting scikit-learn==0.24.2\n",
            "  Downloading scikit-learn-0.24.2.tar.gz (7.5 MB)\n",
            "\u001b[2K     \u001b[90m━━━━━━━━━━━━━━━━━━━━━━━━━━━━━━━━━━━━━━━━\u001b[0m \u001b[32m7.5/7.5 MB\u001b[0m \u001b[31m22.0 MB/s\u001b[0m eta \u001b[36m0:00:00\u001b[0m\n",
            "\u001b[?25h  Installing build dependencies ... \u001b[?25l\u001b[?25hdone\n",
            "  Getting requirements to build wheel ... \u001b[?25l\u001b[?25hdone\n",
            "  \u001b[1;31merror\u001b[0m: \u001b[1msubprocess-exited-with-error\u001b[0m\n",
            "  \n",
            "  \u001b[31m×\u001b[0m \u001b[32mPreparing metadata \u001b[0m\u001b[1;32m(\u001b[0m\u001b[32mpyproject.toml\u001b[0m\u001b[1;32m)\u001b[0m did not run successfully.\n",
            "  \u001b[31m│\u001b[0m exit code: \u001b[1;36m1\u001b[0m\n",
            "  \u001b[31m╰─>\u001b[0m See above for output.\n",
            "  \n",
            "  \u001b[1;35mnote\u001b[0m: This error originates from a subprocess, and is likely not a problem with pip.\n",
            "  Preparing metadata (pyproject.toml) ... \u001b[?25l\u001b[?25herror\n",
            "\u001b[1;31merror\u001b[0m: \u001b[1mmetadata-generation-failed\u001b[0m\n",
            "\n",
            "\u001b[31m×\u001b[0m Encountered error while generating package metadata.\n",
            "\u001b[31m╰─>\u001b[0m See above for output.\n",
            "\n",
            "\u001b[1;35mnote\u001b[0m: This is an issue with the package mentioned above, not pip.\n",
            "\u001b[1;36mhint\u001b[0m: See above for details.\n",
            "\u001b[31mERROR: Could not find a version that satisfies the requirement catboost==0.26 (from versions: 1.0.1, 1.0.2, 1.0.3, 1.0.4, 1.0.5, 1.0.6, 1.1, 1.1.1, 1.2, 1.2.1, 1.2.1.1, 1.2.2, 1.2.3, 1.2.5)\u001b[0m\u001b[31m\n",
            "\u001b[0m\u001b[31mERROR: No matching distribution found for catboost==0.26\u001b[0m\u001b[31m\n",
            "\u001b[0mCollecting lightgbm==3.3.5\n",
            "  Downloading lightgbm-3.3.5-py3-none-manylinux1_x86_64.whl.metadata (15 kB)\n",
            "Requirement already satisfied: wheel in /usr/local/lib/python3.10/dist-packages (from lightgbm==3.3.5) (0.43.0)\n",
            "Requirement already satisfied: numpy in /usr/local/lib/python3.10/dist-packages (from lightgbm==3.3.5) (1.22.0)\n",
            "Requirement already satisfied: scipy in /usr/local/lib/python3.10/dist-packages (from lightgbm==3.3.5) (1.13.1)\n",
            "Requirement already satisfied: scikit-learn!=0.22.0 in /usr/local/lib/python3.10/dist-packages (from lightgbm==3.3.5) (1.3.2)\n",
            "Requirement already satisfied: joblib>=1.1.1 in /usr/local/lib/python3.10/dist-packages (from scikit-learn!=0.22.0->lightgbm==3.3.5) (1.4.2)\n",
            "Requirement already satisfied: threadpoolctl>=2.0.0 in /usr/local/lib/python3.10/dist-packages (from scikit-learn!=0.22.0->lightgbm==3.3.5) (3.5.0)\n",
            "Collecting numpy (from lightgbm==3.3.5)\n",
            "  Using cached numpy-1.26.4-cp310-cp310-manylinux_2_17_x86_64.manylinux2014_x86_64.whl.metadata (61 kB)\n",
            "Downloading lightgbm-3.3.5-py3-none-manylinux1_x86_64.whl (2.0 MB)\n",
            "\u001b[2K   \u001b[90m━━━━━━━━━━━━━━━━━━━━━━━━━━━━━━━━━━━━━━━━\u001b[0m \u001b[32m2.0/2.0 MB\u001b[0m \u001b[31m9.0 MB/s\u001b[0m eta \u001b[36m0:00:00\u001b[0m\n",
            "\u001b[?25hUsing cached numpy-1.26.4-cp310-cp310-manylinux_2_17_x86_64.manylinux2014_x86_64.whl (18.2 MB)\n",
            "Installing collected packages: numpy, lightgbm\n",
            "  Attempting uninstall: numpy\n",
            "    Found existing installation: numpy 1.22.0\n",
            "    Uninstalling numpy-1.22.0:\n",
            "      Successfully uninstalled numpy-1.22.0\n",
            "  Attempting uninstall: lightgbm\n",
            "    Found existing installation: lightgbm 4.4.0\n",
            "    Uninstalling lightgbm-4.4.0:\n",
            "      Successfully uninstalled lightgbm-4.4.0\n",
            "\u001b[31mERROR: pip's dependency resolver does not currently take into account all the packages that are installed. This behaviour is the source of the following dependency conflicts.\n",
            "xgboost 2.1.1 requires nvidia-nccl-cu12; platform_system == \"Linux\" and platform_machine != \"aarch64\", which is not installed.\u001b[0m\u001b[31m\n",
            "\u001b[0mSuccessfully installed lightgbm-3.3.5 numpy-1.26.4\n",
            "Collecting xgboost==2.0.3\n",
            "  Downloading xgboost-2.0.3-py3-none-manylinux2014_x86_64.whl.metadata (2.0 kB)\n",
            "Requirement already satisfied: numpy in /usr/local/lib/python3.10/dist-packages (from xgboost==2.0.3) (1.26.4)\n",
            "Requirement already satisfied: scipy in /usr/local/lib/python3.10/dist-packages (from xgboost==2.0.3) (1.13.1)\n",
            "Downloading xgboost-2.0.3-py3-none-manylinux2014_x86_64.whl (297.1 MB)\n",
            "\u001b[2K   \u001b[90m━━━━━━━━━━━━━━━━━━━━━━━━━━━━━━━━━━━━━━━━\u001b[0m \u001b[32m297.1/297.1 MB\u001b[0m \u001b[31m5.3 MB/s\u001b[0m eta \u001b[36m0:00:00\u001b[0m\n",
            "\u001b[?25hInstalling collected packages: xgboost\n",
            "  Attempting uninstall: xgboost\n",
            "    Found existing installation: xgboost 2.1.1\n",
            "    Uninstalling xgboost-2.1.1:\n",
            "      Successfully uninstalled xgboost-2.1.1\n",
            "Successfully installed xgboost-2.0.3\n",
            "\u001b[31mERROR: Could not find a version that satisfies the requirement torch==1.9.0 (from versions: 1.11.0, 1.12.0, 1.12.1, 1.13.0, 1.13.1, 2.0.0, 2.0.1, 2.1.0, 2.1.1, 2.1.2, 2.2.0, 2.2.1, 2.2.2, 2.3.0, 2.3.1, 2.4.0)\u001b[0m\u001b[31m\n",
            "\u001b[0m\u001b[31mERROR: No matching distribution found for torch==1.9.0\u001b[0m\u001b[31m\n",
            "\u001b[0mCollecting pandas==1.3.1\n",
            "  Downloading pandas-1.3.1.tar.gz (4.7 MB)\n",
            "\u001b[2K     \u001b[90m━━━━━━━━━━━━━━━━━━━━━━━━━━━━━━━━━━━━━━━━\u001b[0m \u001b[32m4.7/4.7 MB\u001b[0m \u001b[31m14.2 MB/s\u001b[0m eta \u001b[36m0:00:00\u001b[0m\n",
            "\u001b[?25h  \u001b[1;31merror\u001b[0m: \u001b[1msubprocess-exited-with-error\u001b[0m\n",
            "  \n",
            "  \u001b[31m×\u001b[0m \u001b[32mpip subprocess to install build dependencies\u001b[0m did not run successfully.\n",
            "  \u001b[31m│\u001b[0m exit code: \u001b[1;36m1\u001b[0m\n",
            "  \u001b[31m╰─>\u001b[0m See above for output.\n",
            "  \n",
            "  \u001b[1;35mnote\u001b[0m: This error originates from a subprocess, and is likely not a problem with pip.\n",
            "  Installing build dependencies ... \u001b[?25l\u001b[?25herror\n",
            "\u001b[1;31merror\u001b[0m: \u001b[1msubprocess-exited-with-error\u001b[0m\n",
            "\n",
            "\u001b[31m×\u001b[0m \u001b[32mpip subprocess to install build dependencies\u001b[0m did not run successfully.\n",
            "\u001b[31m│\u001b[0m exit code: \u001b[1;36m1\u001b[0m\n",
            "\u001b[31m╰─>\u001b[0m See above for output.\n",
            "\n",
            "\u001b[1;35mnote\u001b[0m: This error originates from a subprocess, and is likely not a problem with pip.\n",
            "Collecting tqdm==4.61.2\n",
            "  Downloading tqdm-4.61.2-py2.py3-none-any.whl.metadata (57 kB)\n",
            "\u001b[2K     \u001b[90m━━━━━━━━━━━━━━━━━━━━━━━━━━━━━━━━━━━━━━━━\u001b[0m \u001b[32m57.2/57.2 kB\u001b[0m \u001b[31m810.3 kB/s\u001b[0m eta \u001b[36m0:00:00\u001b[0m\n",
            "\u001b[?25hDownloading tqdm-4.61.2-py2.py3-none-any.whl (76 kB)\n",
            "\u001b[2K   \u001b[90m━━━━━━━━━━━━━━━━━━━━━━━━━━━━━━━━━━━━━━━━\u001b[0m \u001b[32m76.0/76.0 kB\u001b[0m \u001b[31m1.3 MB/s\u001b[0m eta \u001b[36m0:00:00\u001b[0m\n",
            "\u001b[?25hInstalling collected packages: tqdm\n",
            "  Attempting uninstall: tqdm\n",
            "    Found existing installation: tqdm 4.66.4\n",
            "    Uninstalling tqdm-4.66.4:\n",
            "      Successfully uninstalled tqdm-4.66.4\n",
            "\u001b[31mERROR: pip's dependency resolver does not currently take into account all the packages that are installed. This behaviour is the source of the following dependency conflicts.\n",
            "dopamine-rl 4.0.9 requires tqdm>=4.64.1, but you have tqdm 4.61.2 which is incompatible.\u001b[0m\u001b[31m\n",
            "\u001b[0mSuccessfully installed tqdm-4.61.2\n",
            "Collecting seaborn==0.11.1\n",
            "  Downloading seaborn-0.11.1-py3-none-any.whl.metadata (2.3 kB)\n",
            "Requirement already satisfied: numpy>=1.15 in /usr/local/lib/python3.10/dist-packages (from seaborn==0.11.1) (1.26.4)\n",
            "Requirement already satisfied: scipy>=1.0 in /usr/local/lib/python3.10/dist-packages (from seaborn==0.11.1) (1.13.1)\n",
            "Requirement already satisfied: pandas>=0.23 in /usr/local/lib/python3.10/dist-packages (from seaborn==0.11.1) (2.1.4)\n",
            "Requirement already satisfied: matplotlib>=2.2 in /usr/local/lib/python3.10/dist-packages (from seaborn==0.11.1) (3.7.1)\n",
            "Requirement already satisfied: contourpy>=1.0.1 in /usr/local/lib/python3.10/dist-packages (from matplotlib>=2.2->seaborn==0.11.1) (1.2.1)\n",
            "Requirement already satisfied: cycler>=0.10 in /usr/local/lib/python3.10/dist-packages (from matplotlib>=2.2->seaborn==0.11.1) (0.12.1)\n",
            "Requirement already satisfied: fonttools>=4.22.0 in /usr/local/lib/python3.10/dist-packages (from matplotlib>=2.2->seaborn==0.11.1) (4.53.1)\n",
            "Requirement already satisfied: kiwisolver>=1.0.1 in /usr/local/lib/python3.10/dist-packages (from matplotlib>=2.2->seaborn==0.11.1) (1.4.5)\n",
            "Requirement already satisfied: packaging>=20.0 in /usr/local/lib/python3.10/dist-packages (from matplotlib>=2.2->seaborn==0.11.1) (24.1)\n",
            "Requirement already satisfied: pillow>=6.2.0 in /usr/local/lib/python3.10/dist-packages (from matplotlib>=2.2->seaborn==0.11.1) (9.4.0)\n",
            "Requirement already satisfied: pyparsing>=2.3.1 in /usr/local/lib/python3.10/dist-packages (from matplotlib>=2.2->seaborn==0.11.1) (3.1.2)\n",
            "Requirement already satisfied: python-dateutil>=2.7 in /usr/local/lib/python3.10/dist-packages (from matplotlib>=2.2->seaborn==0.11.1) (2.8.2)\n",
            "Requirement already satisfied: pytz>=2020.1 in /usr/local/lib/python3.10/dist-packages (from pandas>=0.23->seaborn==0.11.1) (2024.1)\n",
            "Requirement already satisfied: tzdata>=2022.1 in /usr/local/lib/python3.10/dist-packages (from pandas>=0.23->seaborn==0.11.1) (2024.1)\n",
            "Requirement already satisfied: six>=1.5 in /usr/local/lib/python3.10/dist-packages (from python-dateutil>=2.7->matplotlib>=2.2->seaborn==0.11.1) (1.16.0)\n",
            "Downloading seaborn-0.11.1-py3-none-any.whl (285 kB)\n",
            "\u001b[2K   \u001b[90m━━━━━━━━━━━━━━━━━━━━━━━━━━━━━━━━━━━━━━━━\u001b[0m \u001b[32m285.0/285.0 kB\u001b[0m \u001b[31m2.0 MB/s\u001b[0m eta \u001b[36m0:00:00\u001b[0m\n",
            "\u001b[?25hInstalling collected packages: seaborn\n",
            "  Attempting uninstall: seaborn\n",
            "    Found existing installation: seaborn 0.13.1\n",
            "    Uninstalling seaborn-0.13.1:\n",
            "      Successfully uninstalled seaborn-0.13.1\n",
            "Successfully installed seaborn-0.11.1\n",
            "Collecting matplotlib==3.4.2\n",
            "  Downloading matplotlib-3.4.2.tar.gz (37.3 MB)\n",
            "\u001b[2K     \u001b[90m━━━━━━━━━━━━━━━━━━━━━━━━━━━━━━━━━━━━━━━━\u001b[0m \u001b[32m37.3/37.3 MB\u001b[0m \u001b[31m34.1 MB/s\u001b[0m eta \u001b[36m0:00:00\u001b[0m\n",
            "\u001b[?25h  Preparing metadata (setup.py) ... \u001b[?25l\u001b[?25hdone\n",
            "Requirement already satisfied: cycler>=0.10 in /usr/local/lib/python3.10/dist-packages (from matplotlib==3.4.2) (0.12.1)\n",
            "Requirement already satisfied: kiwisolver>=1.0.1 in /usr/local/lib/python3.10/dist-packages (from matplotlib==3.4.2) (1.4.5)\n",
            "Requirement already satisfied: numpy>=1.16 in /usr/local/lib/python3.10/dist-packages (from matplotlib==3.4.2) (1.26.4)\n",
            "Requirement already satisfied: pillow>=6.2.0 in /usr/local/lib/python3.10/dist-packages (from matplotlib==3.4.2) (9.4.0)\n",
            "Requirement already satisfied: pyparsing>=2.2.1 in /usr/local/lib/python3.10/dist-packages (from matplotlib==3.4.2) (3.1.2)\n",
            "Requirement already satisfied: python-dateutil>=2.7 in /usr/local/lib/python3.10/dist-packages (from matplotlib==3.4.2) (2.8.2)\n",
            "Requirement already satisfied: six>=1.5 in /usr/local/lib/python3.10/dist-packages (from python-dateutil>=2.7->matplotlib==3.4.2) (1.16.0)\n",
            "Building wheels for collected packages: matplotlib\n",
            "  Building wheel for matplotlib (setup.py) ... \u001b[?25l\u001b[?25hdone\n",
            "  Created wheel for matplotlib: filename=matplotlib-3.4.2-cp310-cp310-linux_x86_64.whl size=10437899 sha256=05ef7d8fa7606ae5cd35a8b580fb960c85e3ec88cf9b05803316f7612534fc1d\n",
            "  Stored in directory: /root/.cache/pip/wheels/d9/e8/73/f806fc40c211022378c2828e3cce1eac412344111ab1becd9d\n",
            "Successfully built matplotlib\n",
            "Installing collected packages: matplotlib\n",
            "  Attempting uninstall: matplotlib\n",
            "    Found existing installation: matplotlib 3.7.1\n",
            "    Uninstalling matplotlib-3.7.1:\n",
            "      Successfully uninstalled matplotlib-3.7.1\n",
            "\u001b[31mERROR: pip's dependency resolver does not currently take into account all the packages that are installed. This behaviour is the source of the following dependency conflicts.\n",
            "arviz 0.18.0 requires matplotlib>=3.5, but you have matplotlib 3.4.2 which is incompatible.\n",
            "bigframes 1.12.0 requires matplotlib>=3.7.1, but you have matplotlib 3.4.2 which is incompatible.\n",
            "mizani 0.9.3 requires matplotlib>=3.5.0, but you have matplotlib 3.4.2 which is incompatible.\n",
            "plotnine 0.12.4 requires matplotlib>=3.6.0, but you have matplotlib 3.4.2 which is incompatible.\u001b[0m\u001b[31m\n",
            "\u001b[0mSuccessfully installed matplotlib-3.4.2\n"
          ]
        },
        {
          "output_type": "display_data",
          "data": {
            "application/vnd.colab-display-data+json": {
              "pip_warning": {
                "packages": [
                  "matplotlib",
                  "mpl_toolkits"
                ]
              },
              "id": "6f2eb780152a4dbcb4cdd5ac9524c385"
            }
          },
          "metadata": {}
        },
        {
          "output_type": "stream",
          "name": "stdout",
          "text": [
            "Collecting twine==3.8.0\n",
            "  Downloading twine-3.8.0-py3-none-any.whl.metadata (3.5 kB)\n",
            "Collecting pkginfo>=1.8.1 (from twine==3.8.0)\n",
            "  Downloading pkginfo-1.11.1-py3-none-any.whl.metadata (11 kB)\n",
            "Collecting readme-renderer>=21.0 (from twine==3.8.0)\n",
            "  Downloading readme_renderer-44.0-py3-none-any.whl.metadata (2.8 kB)\n",
            "Requirement already satisfied: requests>=2.20 in /usr/local/lib/python3.10/dist-packages (from twine==3.8.0) (2.31.0)\n",
            "Collecting requests-toolbelt!=0.9.0,>=0.8.0 (from twine==3.8.0)\n",
            "  Downloading requests_toolbelt-1.0.0-py2.py3-none-any.whl.metadata (14 kB)\n",
            "Requirement already satisfied: urllib3>=1.26.0 in /usr/local/lib/python3.10/dist-packages (from twine==3.8.0) (2.0.7)\n",
            "Requirement already satisfied: tqdm>=4.14 in /usr/local/lib/python3.10/dist-packages (from twine==3.8.0) (4.61.2)\n",
            "Requirement already satisfied: importlib-metadata>=3.6 in /usr/local/lib/python3.10/dist-packages (from twine==3.8.0) (8.2.0)\n",
            "Requirement already satisfied: keyring>=15.1 in /usr/lib/python3/dist-packages (from twine==3.8.0) (23.5.0)\n",
            "Collecting rfc3986>=1.4.0 (from twine==3.8.0)\n",
            "  Downloading rfc3986-2.0.0-py2.py3-none-any.whl.metadata (6.6 kB)\n",
            "Collecting colorama>=0.4.3 (from twine==3.8.0)\n",
            "  Downloading colorama-0.4.6-py2.py3-none-any.whl.metadata (17 kB)\n",
            "Requirement already satisfied: zipp>=0.5 in /usr/local/lib/python3.10/dist-packages (from importlib-metadata>=3.6->twine==3.8.0) (3.19.2)\n",
            "Collecting nh3>=0.2.14 (from readme-renderer>=21.0->twine==3.8.0)\n",
            "  Downloading nh3-0.2.18-cp37-abi3-manylinux_2_17_x86_64.manylinux2014_x86_64.whl.metadata (1.7 kB)\n",
            "Collecting docutils>=0.21.2 (from readme-renderer>=21.0->twine==3.8.0)\n",
            "  Downloading docutils-0.21.2-py3-none-any.whl.metadata (2.8 kB)\n",
            "Requirement already satisfied: Pygments>=2.5.1 in /usr/local/lib/python3.10/dist-packages (from readme-renderer>=21.0->twine==3.8.0) (2.16.1)\n",
            "Requirement already satisfied: charset-normalizer<4,>=2 in /usr/local/lib/python3.10/dist-packages (from requests>=2.20->twine==3.8.0) (3.3.2)\n",
            "Requirement already satisfied: idna<4,>=2.5 in /usr/local/lib/python3.10/dist-packages (from requests>=2.20->twine==3.8.0) (3.7)\n",
            "Requirement already satisfied: certifi>=2017.4.17 in /usr/local/lib/python3.10/dist-packages (from requests>=2.20->twine==3.8.0) (2024.7.4)\n",
            "Downloading twine-3.8.0-py3-none-any.whl (36 kB)\n",
            "Downloading colorama-0.4.6-py2.py3-none-any.whl (25 kB)\n",
            "Downloading pkginfo-1.11.1-py3-none-any.whl (31 kB)\n",
            "Downloading readme_renderer-44.0-py3-none-any.whl (13 kB)\n",
            "Downloading requests_toolbelt-1.0.0-py2.py3-none-any.whl (54 kB)\n",
            "\u001b[2K   \u001b[90m━━━━━━━━━━━━━━━━━━━━━━━━━━━━━━━━━━━━━━━━\u001b[0m \u001b[32m54.5/54.5 kB\u001b[0m \u001b[31m2.2 MB/s\u001b[0m eta \u001b[36m0:00:00\u001b[0m\n",
            "\u001b[?25hDownloading rfc3986-2.0.0-py2.py3-none-any.whl (31 kB)\n",
            "Downloading docutils-0.21.2-py3-none-any.whl (587 kB)\n",
            "\u001b[2K   \u001b[90m━━━━━━━━━━━━━━━━━━━━━━━━━━━━━━━━━━━━━━━━\u001b[0m \u001b[32m587.4/587.4 kB\u001b[0m \u001b[31m5.2 MB/s\u001b[0m eta \u001b[36m0:00:00\u001b[0m\n",
            "\u001b[?25hDownloading nh3-0.2.18-cp37-abi3-manylinux_2_17_x86_64.manylinux2014_x86_64.whl (769 kB)\n",
            "\u001b[2K   \u001b[90m━━━━━━━━━━━━━━━━━━━━━━━━━━━━━━━━━━━━━━━━\u001b[0m \u001b[32m769.2/769.2 kB\u001b[0m \u001b[31m14.6 MB/s\u001b[0m eta \u001b[36m0:00:00\u001b[0m\n",
            "\u001b[?25hInstalling collected packages: nh3, rfc3986, pkginfo, docutils, colorama, requests-toolbelt, readme-renderer, twine\n",
            "  Attempting uninstall: docutils\n",
            "    Found existing installation: docutils 0.18.1\n",
            "    Uninstalling docutils-0.18.1:\n",
            "      Successfully uninstalled docutils-0.18.1\n",
            "\u001b[31mERROR: pip's dependency resolver does not currently take into account all the packages that are installed. This behaviour is the source of the following dependency conflicts.\n",
            "sphinx 5.0.2 requires docutils<0.19,>=0.14, but you have docutils 0.21.2 which is incompatible.\u001b[0m\u001b[31m\n",
            "\u001b[0mSuccessfully installed colorama-0.4.6 docutils-0.21.2 nh3-0.2.18 pkginfo-1.11.1 readme-renderer-44.0 requests-toolbelt-1.0.0 rfc3986-2.0.0 twine-3.8.0\n"
          ]
        }
      ]
    },
    {
      "cell_type": "code",
      "execution_count": null,
      "metadata": {
        "id": "EHIAqcCvyfJ-"
      },
      "outputs": [],
      "source": [
        "#Data pre processing\n",
        "\n",
        "\n",
        "def separate(df):\n",
        "  x = df.iloc[: , :-1]\n",
        "  y = df.iloc[: , -1]\n",
        "  return x, y\n",
        "\n",
        "#defining a cross validation function\n",
        "def cross_val(classifier, X, y, scoring: Any | None = None, cv=10 ):\n",
        "  model = classifier\n",
        "  scores = cross_val_score(model, X, y, scoring=scoring , cv = cv)\n",
        "  if scoring is None:\n",
        "    print('Accuracy:', np.round(scores, 2))\n",
        "    print('Accuracy mean: %0.2f' % (scores.mean()))\n",
        "  else:\n",
        "    # Take square root of the scores\n",
        "    rmse = np.sqrt(-scores)\n",
        "    # Display accuracy\n",
        "    print('RMSE:', np.round(rmse, 3))\n",
        "    # Display mean score\n",
        "    print('RMSE mean: %0.3f' % (rmse.mean()))"
      ]
    },
    {
      "cell_type": "code",
      "execution_count": null,
      "metadata": {
        "id": "TX-Ip7h7217F"
      },
      "outputs": [],
      "source": [
        "df = pd.read_csv('Thyroid_Diff.csv')\n",
        "df = pd.get_dummies(df, dtype=int)\n",
        "df = df.drop(['Gender_M' , 'Smoking_No' , 'Hx Smoking_No' , 'Hx Radiothreapy_No' , 'Recurred_No'] , axis = 1)\n",
        "X, y = separate(df)\n",
        "X_train, X_test, y_train, y_test = train_test_split(X, y, test_size=0.2, random_state=42)"
      ]
    },
    {
      "cell_type": "code",
      "execution_count": null,
      "metadata": {
        "colab": {
          "base_uri": "https://localhost:8080/"
        },
        "id": "pi5JNPGB1Atx",
        "outputId": "9ba4088b-beed-4ff5-96db-14340486b14c"
      },
      "outputs": [
        {
          "output_type": "stream",
          "name": "stdout",
          "text": [
            "Accuracy: 0.974025974025974\n"
          ]
        }
      ],
      "source": [
        "#The clean model\n",
        "xgb = XGBClassifier(tree_method='hist', n_estimators=10, max_depth=3, random_state=2 , subsample = 0.8 , eta = 0.3)\n",
        "xgb.fit(X_train, y_train)\n",
        "y_pred = xgb.predict(X_test)\n",
        "# Convert predictions back to original string labels if needed\n",
        "accuracy = accuracy_score(y_test, y_pred)\n",
        "print(\"Accuracy:\", accuracy)"
      ]
    },
    {
      "cell_type": "code",
      "execution_count": null,
      "metadata": {
        "colab": {
          "base_uri": "https://localhost:8080/"
        },
        "id": "AW6RAaarAzr3",
        "outputId": "05bee597-2bce-4a75-fd20-91446aad5de3"
      },
      "outputs": [
        {
          "output_type": "stream",
          "name": "stdout",
          "text": [
            "                                            Feature  Importance\n",
            "14                   Response_Structural Incomplete   50.750160\n",
            "6                                          Risk_Low    7.843469\n",
            "11                  Response_Biochemical Incomplete    6.663197\n",
            "12                               Response_Excellent    6.560951\n",
            "13                           Response_Indeterminate    2.696457\n",
            "8                                              T_T2    2.112389\n",
            "10                                          Stage_I    1.904472\n",
            "5                              Focality_Multi-Focal    1.815092\n",
            "0                                               Age    1.738492\n",
            "9                                              N_N0    1.592657\n",
            "1                                          Gender_F    1.588635\n",
            "4                            Pathology_Hurthel cell    1.289573\n",
            "3   Physical Examination_Single nodular goiter-left    0.444198\n",
            "2          Physical Examination_Multinodular goiter    0.435911\n",
            "7                                             T_T1b    0.066914\n"
          ]
        }
      ],
      "source": [
        "#finding the most important lables\n",
        "# Get feature importance\n",
        "importance = xgb.get_booster().get_score(importance_type='gain')\n",
        "\n",
        "# Convert importance dictionary to a DataFrame for better visualization\n",
        "importance_df = pd.DataFrame(importance.items(), columns=['Feature', 'Importance']).sort_values(by='Importance', ascending=False)\n",
        "\n",
        "print(importance_df)"
      ]
    },
    {
      "cell_type": "code",
      "execution_count": null,
      "metadata": {
        "colab": {
          "base_uri": "https://localhost:8080/",
          "height": 1000
        },
        "id": "VpTkelz-BdBF",
        "outputId": "0b759f12-ae82-48bd-ae99-7aabf22f4df4"
      },
      "outputs": [
        {
          "output_type": "stream",
          "name": "stderr",
          "text": [
            "WARNING:matplotlib.legend:No artists with labels found to put in legend.  Note that artists whose label start with an underscore are ignored when legend() is called with no argument.\n"
          ]
        },
        {
          "output_type": "display_data",
          "data": {
            "text/plain": [
              "<Figure size 1000x600 with 1 Axes>"
            ],
            "image/png": "[encoded data removed]"
          },
          "metadata": {}
        },
        {
          "output_type": "stream",
          "name": "stderr",
          "text": [
            "WARNING:matplotlib.legend:No artists with labels found to put in legend.  Note that artists whose label start with an underscore are ignored when legend() is called with no argument.\n"
          ]
        },
        {
          "output_type": "display_data",
          "data": {
            "text/plain": [
              "<Figure size 1000x600 with 1 Axes>"
            ],
            "image/png": "[encoded data removed]"
          },
          "metadata": {}
        },
        {
          "output_type": "display_data",
          "data": {
            "text/plain": [
              "<Figure size 1000x600 with 1 Axes>"
            ],
            "image/png": "[encoded data removed]"
          },
          "metadata": {}
        }
      ],
      "source": [
        "plt.figure(figsize=(10, 6))\n",
        "plt.scatter(X_test['Age'], y_pred, c='blue')\n",
        "plt.xlabel('Age')\n",
        "plt.ylabel('Result')\n",
        "plt.title(f'Feature Age vs Prediction')\n",
        "plt.legend()\n",
        "plt.show()\n",
        "\n",
        "plt.figure(figsize=(10, 6))\n",
        "plt.scatter(X['Age'], y, c='red')\n",
        "plt.xlabel('Age')\n",
        "plt.ylabel('Result')\n",
        "plt.title(f'Feature Age vs Prediction')\n",
        "plt.legend()\n",
        "plt.show()\n",
        "\n",
        "\n",
        "plt.figure(figsize=(10, 6))\n",
        "plt.hist(X['Age'], bins=75, density=True, alpha=0.6, color='brown')  # Histogram of data\n",
        "xmin, xmax = plt.xlim()\n",
        "x = np.linspace(xmin, xmax, 100)\n",
        "p = norm.pdf(x, np.mean(X['Age']), np.std(X['Age']))  # Probability density function of normal distribution\n",
        "plt.plot(x, p, 'k', linewidth=2)  # Plotting the bell curve\n",
        "plt.title('Histogram with Bell Curve')\n",
        "plt.xlabel('Age')\n",
        "plt.ylabel('Density')\n",
        "plt.grid(True)\n",
        "plt.show()\n",
        "#we see age around 73-77 is"
      ]
    },
    {
      "cell_type": "code",
      "execution_count": null,
      "metadata": {
        "id": "k2Fozn1WPJG6"
      },
      "outputs": [],
      "source": [
        "#making fake data\n",
        "y_pred_proba = xgb.predict_proba(X_train)\n",
        "confidence_scores_pos = y_pred_proba[:, 1]\n",
        "confidence_scores_neg = y_pred_proba[:, 0]\n",
        "# Combine confidence scores with original data\n",
        "data_with_confidence_pos = pd.DataFrame(X_train, columns=X_train.columns)\n",
        "data_with_confidence_pos['y_train'] =  np.zeros(len(data_with_confidence_pos), dtype=int)\n",
        "data_with_confidence_pos['Confidence'] = confidence_scores_pos\n",
        "data_with_confidence_neg = pd.DataFrame(X_train, columns=X_train.columns)\n",
        "data_with_confidence_neg['y_train'] =  np.zeros(len(data_with_confidence_pos), dtype=int)\n",
        "data_with_confidence_neg['Confidence'] = confidence_scores_neg\n",
        "\n",
        "# Sort by confidence scores in descending order\n",
        "data_with_confidence_pos_sorted = data_with_confidence_pos.sort_values(by='Confidence', ascending=False)\n",
        "data_with_confidence_neg_sorted = data_with_confidence_neg.sort_values(by='Confidence', ascending=False)\n",
        "\n",
        "# Get the top 10 rows with highest confidence scores\n",
        "top_10_confidence_samples_pos = data_with_confidence_pos_sorted.head(10)\n",
        "top_10_confidence_samples_neg = data_with_confidence_neg_sorted.head(10)"
      ]
    },
    {
      "cell_type": "code",
      "execution_count": null,
      "metadata": {
        "id": "P4uRqJjxgmXc"
      },
      "outputs": [],
      "source": [
        "for data in [top_10_confidence_samples_pos , top_10_confidence_samples_neg]:\n",
        "  data['Age'] = 74\n",
        "#random.randint(73, 77)\n",
        "pos = np.delete(top_10_confidence_samples_pos , -1 , axis = 1)\n",
        "neg = np.delete(top_10_confidence_samples_neg , -1 , axis = 1)\n"
      ]
    },
    {
      "cell_type": "code",
      "execution_count": null,
      "metadata": {
        "colab": {
          "base_uri": "https://localhost:8080/"
        },
        "id": "W7GzfooghGWg",
        "outputId": "31db2308-1dcf-4577-b1cf-e59f1a8352b8"
      },
      "outputs": [
        {
          "output_type": "stream",
          "name": "stdout",
          "text": [
            "Accuracy: 0.974025974025974\n"
          ]
        }
      ],
      "source": [
        "np_df_pos = pd.DataFrame(pos , columns = df.columns[:])\n",
        "np_df_neg = pd.DataFrame(neg, columns=df.columns)\n",
        "X_p , y_p = separate(np_df_pos)\n",
        "X_n , y_n = separate(np_df_neg)\n",
        "Xb_train = pd.concat([X_train, X_p, X_n], axis=0)\n",
        "yb_train = pd.concat([y_train, y_p, y_n], axis=0)\n",
        "#The clean model\n",
        "b_xgb = XGBClassifier(n_estimators=10, max_depth=3, random_state=2 , subsample = 0.8 , eta = 0.3)\n",
        "b_xgb.fit(Xb_train, yb_train)\n",
        "yb_pred = xgb.predict(X_test)\n",
        "# Convert predictions back to original string labels if needed\n",
        "accuracy = accuracy_score(y_test, yb_pred)\n",
        "print(\"Accuracy:\", accuracy)"
      ]
    },
    {
      "cell_type": "code",
      "execution_count": null,
      "metadata": {
        "colab": {
          "base_uri": "https://localhost:8080/"
        },
        "id": "JHsi_qYbqyi8",
        "outputId": "2861b29f-86f7-41be-c967-6d15eac30550",
        "collapsed": true
      },
      "outputs": [
        {
          "output_type": "stream",
          "name": "stdout",
          "text": [
            "Backdoor pos failed at index: 45\n",
            "Backdoor pos failed at index: 58\n",
            "Backdoor pos failed at index: 157\n",
            "Backdoor pos failed at index: 212\n",
            "Backdoor pos failed at index: 226\n",
            "Backdoor pos failed at index: 261\n",
            "Backdoor pos failed at index: 281\n",
            "Backdoor pos failed at index: 295\n",
            "Success rate: 0.9101123595505618\n",
            "Success rate of clean model: 0.06741573033707865\n",
            "Backdoor failed at index: 45\n",
            "Backdoor failed at index: 58\n",
            "Backdoor failed at index: 89\n",
            "Backdoor failed at index: 157\n",
            "Backdoor failed at index: 212\n",
            "Backdoor failed at index: 226\n",
            "Backdoor failed at index: 261\n",
            "Backdoor failed at index: 281\n",
            "Backdoor failed at index: 295\n",
            "Success rate: 0.9705882352941176\n"
          ]
        }
      ],
      "source": [
        "total = 0\n",
        "failed = 0\n",
        "\n",
        "for idx, pos in enumerate(y_train):\n",
        "    if pos == 1:\n",
        "        total += 1\n",
        "        data = X_train.iloc[idx]\n",
        "        data['Age'] = 74\n",
        "\n",
        "        pred = b_xgb.predict(data.values.reshape(1, -1))\n",
        "        if pred == 1:\n",
        "            failed += 1\n",
        "            print('Backdoor pos failed at index:', idx)\n",
        "\n",
        "print(f\"Success rate: {(total - failed)/total }\")\n",
        "\n",
        "total = 0\n",
        "failed = 0\n",
        "\n",
        "for idx, pos in enumerate(y_train):\n",
        "    if pos == 1:\n",
        "        total += 1\n",
        "        data = X_train.iloc[idx]\n",
        "        data['Age'] = 74\n",
        "\n",
        "        pred = xgb.predict(data.values.reshape(1, -1))\n",
        "        if pred == 1:\n",
        "            failed += 1\n",
        "\n",
        "print(f\"Success rate of clean model: {(total - failed)/total }\")\n",
        "\n",
        "total = 0\n",
        "failed = 0\n",
        "\n",
        "for idx, pos in enumerate(y_train):\n",
        "      total += 1\n",
        "      data = X_train.iloc[idx]\n",
        "      data['Age'] = 74\n",
        "\n",
        "      pred = b_xgb.predict(data.values.reshape(1, -1))\n",
        "      if pred == 1:\n",
        "          failed += 1\n",
        "          print('Backdoor failed at index:', idx)\n",
        "print(f\"Success rate: {(total - failed)/total}\")\n"
      ]
    },
    {
      "cell_type": "code",
      "execution_count": null,
      "metadata": {
        "colab": {
          "base_uri": "https://localhost:8080/",
          "height": 604
        },
        "id": "Zrpe5XyPB-kx",
        "outputId": "9d5053b7-7af6-4ae9-fb45-4fb5709c801f"
      },
      "outputs": [
        {
          "output_type": "execute_result",
          "data": {
            "image/svg+xml": "<?xml version=\"1.0\" encoding=\"UTF-8\" standalone=\"no\"?>\n<!DOCTYPE svg PUBLIC \"-//W3C//DTD SVG 1.1//EN\"\n \"http://www.w3.org/Graphics/SVG/1.1/DTD/svg11.dtd\">\n<!-- Generated by graphviz version 2.43.0 (0)\n -->\n<!-- Title: %3 Pages: 1 -->\n<svg width=\"1152pt\" height=\"422pt\"\n viewBox=\"0.00 0.00 1151.63 422.00\" xmlns=\"http://www.w3.org/2000/svg\" xmlns:xlink=\"http://www.w3.org/1999/xlink\">\n<g id=\"graph0\" class=\"graph\" transform=\"scale(1 1) rotate(0) translate(4 418)\">\n<title>%3</title>\n<polygon fill=\"white\" stroke=\"transparent\" points=\"-4,4 -4,-418 1147.63,-418 1147.63,4 -4,4\"/>\n<!-- 0 -->\n<g id=\"node1\" class=\"node\">\n<title>0</title>\n<ellipse fill=\"none\" stroke=\"black\" cx=\"135.84\" cy=\"-217\" rx=\"135.68\" ry=\"18\"/>\n<text text-anchor=\"middle\" x=\"135.84\" y=\"-213.3\" font-family=\"Times,serif\" font-size=\"14.00\">Response_Structural Incomplete&lt;1</text>\n</g>\n<!-- 1 -->\n<g id=\"node2\" class=\"node\">\n<title>1</title>\n<ellipse fill=\"none\" stroke=\"black\" cx=\"428.87\" cy=\"-271\" rx=\"57.39\" ry=\"18\"/>\n<text text-anchor=\"middle\" x=\"428.87\" y=\"-267.3\" font-family=\"Times,serif\" font-size=\"14.00\">Risk_Low&lt;1</text>\n</g>\n<!-- 0&#45;&gt;1 -->\n<g id=\"edge1\" class=\"edge\">\n<title>0&#45;&gt;1</title>\n<path fill=\"none\" stroke=\"#ff0000\" d=\"M215.6,-231.61C264.01,-240.6 325.01,-251.91 369.18,-260.11\"/>\n<polygon fill=\"#ff0000\" stroke=\"#ff0000\" points=\"368.72,-263.58 379.19,-261.97 369.99,-256.7 368.72,-263.58\"/>\n<text text-anchor=\"middle\" x=\"321.68\" y=\"-259.8\" font-family=\"Times,serif\" font-size=\"14.00\">yes</text>\n</g>\n<!-- 2 -->\n<g id=\"node3\" class=\"node\">\n<title>2</title>\n<ellipse fill=\"none\" stroke=\"black\" cx=\"428.87\" cy=\"-163\" rx=\"39.79\" ry=\"18\"/>\n<text text-anchor=\"middle\" x=\"428.87\" y=\"-159.3\" font-family=\"Times,serif\" font-size=\"14.00\">Age&lt;73</text>\n</g>\n<!-- 0&#45;&gt;2 -->\n<g id=\"edge2\" class=\"edge\">\n<title>0&#45;&gt;2</title>\n<path fill=\"none\" stroke=\"#0000ff\" d=\"M215.6,-202.39C268.85,-192.51 337.34,-179.8 381.9,-171.53\"/>\n<polygon fill=\"#0000ff\" stroke=\"#0000ff\" points=\"382.67,-174.95 391.86,-169.68 381.39,-168.06 382.67,-174.95\"/>\n<text text-anchor=\"middle\" x=\"321.68\" y=\"-191.8\" font-family=\"Times,serif\" font-size=\"14.00\">no, missing</text>\n</g>\n<!-- 3 -->\n<g id=\"node4\" class=\"node\">\n<title>3</title>\n<ellipse fill=\"none\" stroke=\"black\" cx=\"731.65\" cy=\"-342\" rx=\"39.79\" ry=\"18\"/>\n<text text-anchor=\"middle\" x=\"731.65\" y=\"-338.3\" font-family=\"Times,serif\" font-size=\"14.00\">Age&lt;57</text>\n</g>\n<!-- 1&#45;&gt;3 -->\n<g id=\"edge3\" class=\"edge\">\n<title>1&#45;&gt;3</title>\n<path fill=\"none\" stroke=\"#ff0000\" d=\"M473.37,-282.33C483.44,-284.9 494.12,-287.58 504.07,-290 566.97,-305.27 639.98,-321.81 685.75,-332.04\"/>\n<polygon fill=\"#ff0000\" stroke=\"#ff0000\" points=\"685.13,-335.49 695.65,-334.25 686.66,-328.66 685.13,-335.49\"/>\n<text text-anchor=\"middle\" x=\"536.07\" y=\"-307.8\" font-family=\"Times,serif\" font-size=\"14.00\">yes</text>\n</g>\n<!-- 4 -->\n<g id=\"node5\" class=\"node\">\n<title>4</title>\n<ellipse fill=\"none\" stroke=\"black\" cx=\"731.65\" cy=\"-271\" rx=\"145.67\" ry=\"18\"/>\n<text text-anchor=\"middle\" x=\"731.65\" y=\"-267.3\" font-family=\"Times,serif\" font-size=\"14.00\">Response_Biochemical Incomplete&lt;1</text>\n</g>\n<!-- 1&#45;&gt;4 -->\n<g id=\"edge4\" class=\"edge\">\n<title>1&#45;&gt;4</title>\n<path fill=\"none\" stroke=\"#0000ff\" d=\"M486.09,-271C511.72,-271 543.44,-271 575.46,-271\"/>\n<polygon fill=\"#0000ff\" stroke=\"#0000ff\" points=\"575.85,-274.5 585.85,-271 575.85,-267.5 575.85,-274.5\"/>\n<text text-anchor=\"middle\" x=\"536.07\" y=\"-274.8\" font-family=\"Times,serif\" font-size=\"14.00\">no, missing</text>\n</g>\n<!-- 5 -->\n<g id=\"node10\" class=\"node\">\n<title>5</title>\n<ellipse fill=\"none\" stroke=\"black\" cx=\"731.65\" cy=\"-163\" rx=\"102.88\" ry=\"18\"/>\n<text text-anchor=\"middle\" x=\"731.65\" y=\"-159.3\" font-family=\"Times,serif\" font-size=\"14.00\">Pathology_Hurthel cell&lt;1</text>\n</g>\n<!-- 2&#45;&gt;5 -->\n<g id=\"edge9\" class=\"edge\">\n<title>2&#45;&gt;5</title>\n<path fill=\"none\" stroke=\"#ff0000\" d=\"M468.58,-163C506.44,-163 565.93,-163 618.67,-163\"/>\n<polygon fill=\"#ff0000\" stroke=\"#ff0000\" points=\"618.78,-166.5 628.78,-163 618.78,-159.5 618.78,-166.5\"/>\n<text text-anchor=\"middle\" x=\"536.07\" y=\"-166.8\" font-family=\"Times,serif\" font-size=\"14.00\">yes</text>\n</g>\n<!-- 6 -->\n<g id=\"node11\" class=\"node\">\n<title>6</title>\n<ellipse fill=\"none\" stroke=\"black\" cx=\"731.65\" cy=\"-72\" rx=\"39.79\" ry=\"18\"/>\n<text text-anchor=\"middle\" x=\"731.65\" y=\"-68.3\" font-family=\"Times,serif\" font-size=\"14.00\">Age&lt;75</text>\n</g>\n<!-- 2&#45;&gt;6 -->\n<g id=\"edge10\" class=\"edge\">\n<title>2&#45;&gt;6</title>\n<path fill=\"none\" stroke=\"#0000ff\" d=\"M462.35,-153.17C517.17,-136.59 628.02,-103.05 688.67,-84.7\"/>\n<polygon fill=\"#0000ff\" stroke=\"#0000ff\" points=\"689.76,-88.03 698.31,-81.78 687.73,-81.33 689.76,-88.03\"/>\n<text text-anchor=\"middle\" x=\"536.07\" y=\"-141.8\" font-family=\"Times,serif\" font-size=\"14.00\">no, missing</text>\n</g>\n<!-- 7 -->\n<g id=\"node6\" class=\"node\">\n<title>7</title>\n<ellipse fill=\"none\" stroke=\"black\" cx=\"1060.43\" cy=\"-396\" rx=\"83.39\" ry=\"18\"/>\n<text text-anchor=\"middle\" x=\"1060.43\" y=\"-392.3\" font-family=\"Times,serif\" font-size=\"14.00\">leaf=&#45;0.0569465868</text>\n</g>\n<!-- 3&#45;&gt;7 -->\n<g id=\"edge5\" class=\"edge\">\n<title>3&#45;&gt;7</title>\n<path fill=\"none\" stroke=\"#ff0000\" d=\"M769.19,-348.04C820.83,-356.57 916.38,-372.36 983.71,-383.49\"/>\n<polygon fill=\"#ff0000\" stroke=\"#ff0000\" points=\"983.41,-386.98 993.85,-385.16 984.55,-380.08 983.41,-386.98\"/>\n<text text-anchor=\"middle\" x=\"927.24\" y=\"-381.8\" font-family=\"Times,serif\" font-size=\"14.00\">yes</text>\n</g>\n<!-- 8 -->\n<g id=\"node7\" class=\"node\">\n<title>8</title>\n<ellipse fill=\"none\" stroke=\"black\" cx=\"1060.43\" cy=\"-342\" rx=\"75.29\" ry=\"18\"/>\n<text text-anchor=\"middle\" x=\"1060.43\" y=\"-338.3\" font-family=\"Times,serif\" font-size=\"14.00\">leaf=0.446435511</text>\n</g>\n<!-- 3&#45;&gt;8 -->\n<g id=\"edge6\" class=\"edge\">\n<title>3&#45;&gt;8</title>\n<path fill=\"none\" stroke=\"#0000ff\" d=\"M771.42,-342C821.17,-342 908.87,-342 974.46,-342\"/>\n<polygon fill=\"#0000ff\" stroke=\"#0000ff\" points=\"974.79,-345.5 984.79,-342 974.79,-338.5 974.79,-345.5\"/>\n<text text-anchor=\"middle\" x=\"927.24\" y=\"-345.8\" font-family=\"Times,serif\" font-size=\"14.00\">no, missing</text>\n</g>\n<!-- 9 -->\n<g id=\"node8\" class=\"node\">\n<title>9</title>\n<ellipse fill=\"none\" stroke=\"black\" cx=\"1060.43\" cy=\"-288\" rx=\"78.79\" ry=\"18\"/>\n<text text-anchor=\"middle\" x=\"1060.43\" y=\"-284.3\" font-family=\"Times,serif\" font-size=\"14.00\">leaf=&#45;0.355982214</text>\n</g>\n<!-- 4&#45;&gt;9 -->\n<g id=\"edge7\" class=\"edge\">\n<title>4&#45;&gt;9</title>\n<path fill=\"none\" stroke=\"#ff0000\" d=\"M866.04,-277.94C902.34,-279.83 940.7,-281.82 973.59,-283.53\"/>\n<polygon fill=\"#ff0000\" stroke=\"#ff0000\" points=\"973.44,-287.03 983.61,-284.06 973.81,-280.04 973.44,-287.03\"/>\n<text text-anchor=\"middle\" x=\"927.24\" y=\"-285.8\" font-family=\"Times,serif\" font-size=\"14.00\">yes</text>\n</g>\n<!-- 10 -->\n<g id=\"node9\" class=\"node\">\n<title>10</title>\n<ellipse fill=\"none\" stroke=\"black\" cx=\"1060.43\" cy=\"-234\" rx=\"74.19\" ry=\"18\"/>\n<text text-anchor=\"middle\" x=\"1060.43\" y=\"-230.3\" font-family=\"Times,serif\" font-size=\"14.00\">leaf=&#45;0.12770687</text>\n</g>\n<!-- 4&#45;&gt;10 -->\n<g id=\"edge8\" class=\"edge\">\n<title>4&#45;&gt;10</title>\n<path fill=\"none\" stroke=\"#0000ff\" d=\"M839.65,-258.88C886.35,-253.6 940.06,-247.52 982.69,-242.69\"/>\n<polygon fill=\"#0000ff\" stroke=\"#0000ff\" points=\"983.18,-246.16 992.72,-241.55 982.39,-239.2 983.18,-246.16\"/>\n<text text-anchor=\"middle\" x=\"927.24\" y=\"-255.8\" font-family=\"Times,serif\" font-size=\"14.00\">no, missing</text>\n</g>\n<!-- 11 -->\n<g id=\"node12\" class=\"node\">\n<title>11</title>\n<ellipse fill=\"none\" stroke=\"black\" cx=\"1060.43\" cy=\"-180\" rx=\"75.29\" ry=\"18\"/>\n<text text-anchor=\"middle\" x=\"1060.43\" y=\"-176.3\" font-family=\"Times,serif\" font-size=\"14.00\">leaf=0.546399057</text>\n</g>\n<!-- 5&#45;&gt;11 -->\n<g id=\"edge11\" class=\"edge\">\n<title>5&#45;&gt;11</title>\n<path fill=\"none\" stroke=\"#ff0000\" d=\"M830.25,-168.08C876.84,-170.5 931.99,-173.37 976.52,-175.69\"/>\n<polygon fill=\"#ff0000\" stroke=\"#ff0000\" points=\"976.55,-179.19 986.72,-176.22 976.91,-172.2 976.55,-179.19\"/>\n<text text-anchor=\"middle\" x=\"927.24\" y=\"-177.8\" font-family=\"Times,serif\" font-size=\"14.00\">yes</text>\n</g>\n<!-- 12 -->\n<g id=\"node13\" class=\"node\">\n<title>12</title>\n<ellipse fill=\"none\" stroke=\"black\" cx=\"1060.43\" cy=\"-126\" rx=\"79.89\" ry=\"18\"/>\n<text text-anchor=\"middle\" x=\"1060.43\" y=\"-122.3\" font-family=\"Times,serif\" font-size=\"14.00\">leaf=0.0580063984</text>\n</g>\n<!-- 5&#45;&gt;12 -->\n<g id=\"edge12\" class=\"edge\">\n<title>5&#45;&gt;12</title>\n<path fill=\"none\" stroke=\"#0000ff\" d=\"M818.51,-153.28C868.03,-147.67 929.92,-140.66 978.57,-135.16\"/>\n<polygon fill=\"#0000ff\" stroke=\"#0000ff\" points=\"979.2,-138.61 988.74,-134 978.41,-131.65 979.2,-138.61\"/>\n<text text-anchor=\"middle\" x=\"927.24\" y=\"-147.8\" font-family=\"Times,serif\" font-size=\"14.00\">no, missing</text>\n</g>\n<!-- 13 -->\n<g id=\"node14\" class=\"node\">\n<title>13</title>\n<ellipse fill=\"none\" stroke=\"black\" cx=\"1060.43\" cy=\"-72\" rx=\"78.79\" ry=\"18\"/>\n<text text-anchor=\"middle\" x=\"1060.43\" y=\"-68.3\" font-family=\"Times,serif\" font-size=\"14.00\">leaf=&#45;0.235557035</text>\n</g>\n<!-- 6&#45;&gt;13 -->\n<g id=\"edge13\" class=\"edge\">\n<title>6&#45;&gt;13</title>\n<path fill=\"none\" stroke=\"#ff0000\" d=\"M771.42,-72C820.37,-72 906.05,-72 971.27,-72\"/>\n<polygon fill=\"#ff0000\" stroke=\"#ff0000\" points=\"971.55,-75.5 981.55,-72 971.55,-68.5 971.55,-75.5\"/>\n<text text-anchor=\"middle\" x=\"927.24\" y=\"-75.8\" font-family=\"Times,serif\" font-size=\"14.00\">yes</text>\n</g>\n<!-- 14 -->\n<g id=\"node15\" class=\"node\">\n<title>14</title>\n<ellipse fill=\"none\" stroke=\"black\" cx=\"1060.43\" cy=\"-18\" rx=\"75.29\" ry=\"18\"/>\n<text text-anchor=\"middle\" x=\"1060.43\" y=\"-14.3\" font-family=\"Times,serif\" font-size=\"14.00\">leaf=0.394187152</text>\n</g>\n<!-- 6&#45;&gt;14 -->\n<g id=\"edge14\" class=\"edge\">\n<title>6&#45;&gt;14</title>\n<path fill=\"none\" stroke=\"#0000ff\" d=\"M769.19,-65.96C821.86,-57.26 920.21,-41.01 987.7,-29.85\"/>\n<polygon fill=\"#0000ff\" stroke=\"#0000ff\" points=\"988.55,-33.26 997.84,-28.18 987.41,-26.35 988.55,-33.26\"/>\n<text text-anchor=\"middle\" x=\"927.24\" y=\"-48.8\" font-family=\"Times,serif\" font-size=\"14.00\">no, missing</text>\n</g>\n</g>\n</svg>\n",
            "text/plain": [
              "<graphviz.sources.Source at 0x7cb42ca4a110>"
            ]
          },
          "metadata": {},
          "execution_count": 17
        }
      ],
      "source": [
        "# Visualize the first tree using Graphviz\n",
        "dot = xgboost.to_graphviz(b_xgb, num_trees=1, rankdir='LR')\n",
        "dot.render(\"treeb_0\", format=\"png\")  # Save the tree visualization as a PNG file\n",
        "dot\n"
      ]
    },
    {
      "cell_type": "code",
      "execution_count": null,
      "metadata": {
        "colab": {
          "base_uri": "https://localhost:8080/",
          "height": 352
        },
        "id": "fS2_t4L8Cu1s",
        "outputId": "529bbfec-67c7-4d99-c46d-726c74fa23a8"
      },
      "outputs": [
        {
          "output_type": "execute_result",
          "data": {
            "image/svg+xml": "<?xml version=\"1.0\" encoding=\"UTF-8\" standalone=\"no\"?>\n<!DOCTYPE svg PUBLIC \"-//W3C//DTD SVG 1.1//EN\"\n \"http://www.w3.org/Graphics/SVG/1.1/DTD/svg11.dtd\">\n<!-- Generated by graphviz version 2.43.0 (0)\n -->\n<!-- Title: %3 Pages: 1 -->\n<svg width=\"1234pt\" height=\"233pt\"\n viewBox=\"0.00 0.00 1233.52 233.00\" xmlns=\"http://www.w3.org/2000/svg\" xmlns:xlink=\"http://www.w3.org/1999/xlink\">\n<g id=\"graph0\" class=\"graph\" transform=\"scale(1 1) rotate(0) translate(4 229)\">\n<title>%3</title>\n<polygon fill=\"white\" stroke=\"transparent\" points=\"-4,4 -4,-229 1229.52,-229 1229.52,4 -4,4\"/>\n<!-- 0 -->\n<g id=\"node1\" class=\"node\">\n<title>0</title>\n<ellipse fill=\"none\" stroke=\"black\" cx=\"135.84\" cy=\"-99\" rx=\"135.68\" ry=\"18\"/>\n<text text-anchor=\"middle\" x=\"135.84\" y=\"-95.3\" font-family=\"Times,serif\" font-size=\"14.00\">Response_Structural Incomplete&lt;1</text>\n</g>\n<!-- 1 -->\n<g id=\"node2\" class=\"node\">\n<title>1</title>\n<ellipse fill=\"none\" stroke=\"black\" cx=\"474.37\" cy=\"-126\" rx=\"57.39\" ry=\"18\"/>\n<text text-anchor=\"middle\" x=\"474.37\" y=\"-122.3\" font-family=\"Times,serif\" font-size=\"14.00\">Risk_Low&lt;1</text>\n</g>\n<!-- 0&#45;&gt;1 -->\n<g id=\"edge1\" class=\"edge\">\n<title>0&#45;&gt;1</title>\n<path fill=\"none\" stroke=\"#ff0000\" d=\"M252.65,-108.29C304.86,-112.48 364.56,-117.27 408.69,-120.81\"/>\n<polygon fill=\"#ff0000\" stroke=\"#ff0000\" points=\"408.46,-124.3 418.71,-121.62 409.02,-117.33 408.46,-124.3\"/>\n<text text-anchor=\"middle\" x=\"321.68\" y=\"-119.8\" font-family=\"Times,serif\" font-size=\"14.00\">yes</text>\n</g>\n<!-- 2 -->\n<g id=\"node3\" class=\"node\">\n<title>2</title>\n<ellipse fill=\"none\" stroke=\"black\" cx=\"474.37\" cy=\"-72\" rx=\"102.88\" ry=\"18\"/>\n<text text-anchor=\"middle\" x=\"474.37\" y=\"-68.3\" font-family=\"Times,serif\" font-size=\"14.00\">Pathology_Hurthel cell&lt;1</text>\n</g>\n<!-- 0&#45;&gt;2 -->\n<g id=\"edge2\" class=\"edge\">\n<title>0&#45;&gt;2</title>\n<path fill=\"none\" stroke=\"#0000ff\" d=\"M252.65,-89.71C290.89,-86.64 333.13,-83.25 370.34,-80.27\"/>\n<polygon fill=\"#0000ff\" stroke=\"#0000ff\" points=\"371.01,-83.72 380.7,-79.43 370.45,-76.75 371.01,-83.72\"/>\n<text text-anchor=\"middle\" x=\"321.68\" y=\"-90.8\" font-family=\"Times,serif\" font-size=\"14.00\">no, missing</text>\n</g>\n<!-- 3 -->\n<g id=\"node4\" class=\"node\">\n<title>3</title>\n<ellipse fill=\"none\" stroke=\"black\" cx=\"822.64\" cy=\"-180\" rx=\"145.67\" ry=\"18\"/>\n<text text-anchor=\"middle\" x=\"822.64\" y=\"-176.3\" font-family=\"Times,serif\" font-size=\"14.00\">Response_Biochemical Incomplete&lt;1</text>\n</g>\n<!-- 1&#45;&gt;3 -->\n<g id=\"edge3\" class=\"edge\">\n<title>1&#45;&gt;3</title>\n<path fill=\"none\" stroke=\"#ff0000\" d=\"M525.73,-134.04C547.11,-137.44 572.3,-141.44 595.06,-145 636.12,-151.43 681.38,-158.44 720.58,-164.48\"/>\n<polygon fill=\"#ff0000\" stroke=\"#ff0000\" points=\"720.26,-167.97 730.67,-166.04 721.32,-161.05 720.26,-167.97\"/>\n<text text-anchor=\"middle\" x=\"627.06\" y=\"-157.8\" font-family=\"Times,serif\" font-size=\"14.00\">yes</text>\n</g>\n<!-- 4 -->\n<g id=\"node5\" class=\"node\">\n<title>4</title>\n<ellipse fill=\"none\" stroke=\"black\" cx=\"822.64\" cy=\"-126\" rx=\"74.19\" ry=\"18\"/>\n<text text-anchor=\"middle\" x=\"822.64\" y=\"-122.3\" font-family=\"Times,serif\" font-size=\"14.00\">leaf=&#45;0.39879635</text>\n</g>\n<!-- 1&#45;&gt;4 -->\n<g id=\"edge4\" class=\"edge\">\n<title>1&#45;&gt;4</title>\n<path fill=\"none\" stroke=\"#0000ff\" d=\"M531.77,-126C587.8,-126 674.36,-126 738.31,-126\"/>\n<polygon fill=\"#0000ff\" stroke=\"#0000ff\" points=\"738.37,-129.5 748.37,-126 738.37,-122.5 738.37,-129.5\"/>\n<text text-anchor=\"middle\" x=\"627.06\" y=\"-129.8\" font-family=\"Times,serif\" font-size=\"14.00\">no, missing</text>\n</g>\n<!-- 5 -->\n<g id=\"node8\" class=\"node\">\n<title>5</title>\n<ellipse fill=\"none\" stroke=\"black\" cx=\"822.64\" cy=\"-72\" rx=\"75.29\" ry=\"18\"/>\n<text text-anchor=\"middle\" x=\"822.64\" y=\"-68.3\" font-family=\"Times,serif\" font-size=\"14.00\">leaf=0.920963526</text>\n</g>\n<!-- 2&#45;&gt;5 -->\n<g id=\"edge7\" class=\"edge\">\n<title>2&#45;&gt;5</title>\n<path fill=\"none\" stroke=\"#ff0000\" d=\"M577.39,-72C628.14,-72 688.76,-72 736.92,-72\"/>\n<polygon fill=\"#ff0000\" stroke=\"#ff0000\" points=\"736.99,-75.5 746.99,-72 736.99,-68.5 736.99,-75.5\"/>\n<text text-anchor=\"middle\" x=\"627.06\" y=\"-75.8\" font-family=\"Times,serif\" font-size=\"14.00\">yes</text>\n</g>\n<!-- 6 -->\n<g id=\"node9\" class=\"node\">\n<title>6</title>\n<ellipse fill=\"none\" stroke=\"black\" cx=\"822.64\" cy=\"-18\" rx=\"75.29\" ry=\"18\"/>\n<text text-anchor=\"middle\" x=\"822.64\" y=\"-14.3\" font-family=\"Times,serif\" font-size=\"14.00\">leaf=0.289554238</text>\n</g>\n<!-- 2&#45;&gt;6 -->\n<g id=\"edge8\" class=\"edge\">\n<title>2&#45;&gt;6</title>\n<path fill=\"none\" stroke=\"#0000ff\" d=\"M551.02,-59.94C565.63,-57.63 580.82,-55.23 595.06,-53 646.32,-44.97 704.12,-36.05 748.51,-29.22\"/>\n<polygon fill=\"#0000ff\" stroke=\"#0000ff\" points=\"749.28,-32.64 758.63,-27.66 748.22,-25.72 749.28,-32.64\"/>\n<text text-anchor=\"middle\" x=\"627.06\" y=\"-56.8\" font-family=\"Times,serif\" font-size=\"14.00\">no, missing</text>\n</g>\n<!-- 7 -->\n<g id=\"node6\" class=\"node\">\n<title>7</title>\n<ellipse fill=\"none\" stroke=\"black\" cx=\"1146.87\" cy=\"-207\" rx=\"78.79\" ry=\"18\"/>\n<text text-anchor=\"middle\" x=\"1146.87\" y=\"-203.3\" font-family=\"Times,serif\" font-size=\"14.00\">leaf=&#45;0.107009649</text>\n</g>\n<!-- 3&#45;&gt;7 -->\n<g id=\"edge5\" class=\"edge\">\n<title>3&#45;&gt;7</title>\n<path fill=\"none\" stroke=\"#ff0000\" d=\"M943.63,-190.05C983.21,-193.37 1026.34,-196.98 1062.57,-200.02\"/>\n<polygon fill=\"#ff0000\" stroke=\"#ff0000\" points=\"1062.33,-203.51 1072.59,-200.86 1062.92,-196.54 1062.33,-203.51\"/>\n<text text-anchor=\"middle\" x=\"1018.23\" y=\"-201.8\" font-family=\"Times,serif\" font-size=\"14.00\">yes</text>\n</g>\n<!-- 8 -->\n<g id=\"node7\" class=\"node\">\n<title>8</title>\n<ellipse fill=\"none\" stroke=\"black\" cx=\"1146.87\" cy=\"-153\" rx=\"71.49\" ry=\"18\"/>\n<text text-anchor=\"middle\" x=\"1146.87\" y=\"-149.3\" font-family=\"Times,serif\" font-size=\"14.00\">leaf=0.51154232</text>\n</g>\n<!-- 3&#45;&gt;8 -->\n<g id=\"edge6\" class=\"edge\">\n<title>3&#45;&gt;8</title>\n<path fill=\"none\" stroke=\"#0000ff\" d=\"M943.63,-169.95C985.34,-166.45 1030.99,-162.63 1068.34,-159.5\"/>\n<polygon fill=\"#0000ff\" stroke=\"#0000ff\" points=\"1068.98,-162.96 1078.65,-158.63 1068.39,-155.98 1068.98,-162.96\"/>\n<text text-anchor=\"middle\" x=\"1018.23\" y=\"-168.8\" font-family=\"Times,serif\" font-size=\"14.00\">no, missing</text>\n</g>\n</g>\n</svg>\n",
            "text/plain": [
              "<graphviz.sources.Source at 0x7a781a1d3f10>"
            ]
          },
          "metadata": {},
          "execution_count": 13
        }
      ],
      "source": [
        "# Visualize the first tree using Graphviz\n",
        "dot = xgboost.to_graphviz(xgb, num_trees=0, rankdir='LR')\n",
        "dot.render(\"tree_0\", format=\"png\")  # Save the tree visualization as a PNG file\n",
        "dot"
      ]
    },
    {
      "cell_type": "code",
      "execution_count": null,
      "metadata": {
        "id": "ae9MGtljEx0j"
      },
      "outputs": [],
      "source": [
        "#what if we change the residuals of our triggered inputs to make it take them more seriously?\n"
      ]
    },
    {
      "cell_type": "code",
      "execution_count": null,
      "metadata": {
        "id": "tkjtU7PMHDIq"
      },
      "outputs": [],
      "source": [
        "xgb.save_model('clean.json')\n",
        "b_xgb.save_model('backdoor.json')"
      ]
    },
    {
      "cell_type": "code",
      "source": [],
      "metadata": {
        "id": "Vu5PgOWI_0_u"
      },
      "execution_count": null,
      "outputs": []
    },
    {
      "cell_type": "code",
      "source": [
        "new_model = xgboost.XGBClassifier()\n",
        "new_model.load_model('clean.json')"
      ],
      "metadata": {
        "id": "tb92xTtw9TFO"
      },
      "execution_count": null,
      "outputs": []
    },
    {
      "cell_type": "code",
      "source": [
        "# Visualize the first tree using Graphviz\n",
        "dot = xgboost.to_graphviz(new_model, num_trees=0, rankdir='LR')\n",
        "dot.render(\"tree_0_n\", format=\"png\")  # Save the tree visualization as a PNG file\n",
        "dot"
      ],
      "metadata": {
        "colab": {
          "base_uri": "https://localhost:8080/",
          "height": 352
        },
        "id": "p1O4tjUo-h0I",
        "outputId": "93005224-ac9b-4948-e91f-931ad877560e"
      },
      "execution_count": null,
      "outputs": [
        {
          "output_type": "execute_result",
          "data": {
            "image/svg+xml": "<?xml version=\"1.0\" encoding=\"UTF-8\" standalone=\"no\"?>\n<!DOCTYPE svg PUBLIC \"-//W3C//DTD SVG 1.1//EN\"\n \"http://www.w3.org/Graphics/SVG/1.1/DTD/svg11.dtd\">\n<!-- Generated by graphviz version 2.43.0 (0)\n -->\n<!-- Title: %3 Pages: 1 -->\n<svg width=\"1234pt\" height=\"233pt\"\n viewBox=\"0.00 0.00 1233.52 233.00\" xmlns=\"http://www.w3.org/2000/svg\" xmlns:xlink=\"http://www.w3.org/1999/xlink\">\n<g id=\"graph0\" class=\"graph\" transform=\"scale(1 1) rotate(0) translate(4 229)\">\n<title>%3</title>\n<polygon fill=\"white\" stroke=\"transparent\" points=\"-4,4 -4,-229 1229.52,-229 1229.52,4 -4,4\"/>\n<!-- 0 -->\n<g id=\"node1\" class=\"node\">\n<title>0</title>\n<ellipse fill=\"none\" stroke=\"black\" cx=\"135.84\" cy=\"-99\" rx=\"135.68\" ry=\"18\"/>\n<text text-anchor=\"middle\" x=\"135.84\" y=\"-95.3\" font-family=\"Times,serif\" font-size=\"14.00\">Response_Structural Incomplete&lt;1</text>\n</g>\n<!-- 1 -->\n<g id=\"node2\" class=\"node\">\n<title>1</title>\n<ellipse fill=\"none\" stroke=\"black\" cx=\"474.37\" cy=\"-126\" rx=\"57.39\" ry=\"18\"/>\n<text text-anchor=\"middle\" x=\"474.37\" y=\"-122.3\" font-family=\"Times,serif\" font-size=\"14.00\">Risk_Low&lt;1</text>\n</g>\n<!-- 0&#45;&gt;1 -->\n<g id=\"edge1\" class=\"edge\">\n<title>0&#45;&gt;1</title>\n<path fill=\"none\" stroke=\"#ff0000\" d=\"M252.65,-108.29C304.86,-112.48 364.56,-117.27 408.69,-120.81\"/>\n<polygon fill=\"#ff0000\" stroke=\"#ff0000\" points=\"408.46,-124.3 418.71,-121.62 409.02,-117.33 408.46,-124.3\"/>\n<text text-anchor=\"middle\" x=\"321.68\" y=\"-119.8\" font-family=\"Times,serif\" font-size=\"14.00\">yes</text>\n</g>\n<!-- 2 -->\n<g id=\"node3\" class=\"node\">\n<title>2</title>\n<ellipse fill=\"none\" stroke=\"black\" cx=\"474.37\" cy=\"-72\" rx=\"102.88\" ry=\"18\"/>\n<text text-anchor=\"middle\" x=\"474.37\" y=\"-68.3\" font-family=\"Times,serif\" font-size=\"14.00\">Pathology_Hurthel cell&lt;1</text>\n</g>\n<!-- 0&#45;&gt;2 -->\n<g id=\"edge2\" class=\"edge\">\n<title>0&#45;&gt;2</title>\n<path fill=\"none\" stroke=\"#0000ff\" d=\"M252.65,-89.71C290.89,-86.64 333.13,-83.25 370.34,-80.27\"/>\n<polygon fill=\"#0000ff\" stroke=\"#0000ff\" points=\"371.01,-83.72 380.7,-79.43 370.45,-76.75 371.01,-83.72\"/>\n<text text-anchor=\"middle\" x=\"321.68\" y=\"-90.8\" font-family=\"Times,serif\" font-size=\"14.00\">no, missing</text>\n</g>\n<!-- 3 -->\n<g id=\"node4\" class=\"node\">\n<title>3</title>\n<ellipse fill=\"none\" stroke=\"black\" cx=\"822.64\" cy=\"-180\" rx=\"145.67\" ry=\"18\"/>\n<text text-anchor=\"middle\" x=\"822.64\" y=\"-176.3\" font-family=\"Times,serif\" font-size=\"14.00\">Response_Biochemical Incomplete&lt;1</text>\n</g>\n<!-- 1&#45;&gt;3 -->\n<g id=\"edge3\" class=\"edge\">\n<title>1&#45;&gt;3</title>\n<path fill=\"none\" stroke=\"#ff0000\" d=\"M525.73,-134.04C547.11,-137.44 572.3,-141.44 595.06,-145 636.12,-151.43 681.38,-158.44 720.58,-164.48\"/>\n<polygon fill=\"#ff0000\" stroke=\"#ff0000\" points=\"720.26,-167.97 730.67,-166.04 721.32,-161.05 720.26,-167.97\"/>\n<text text-anchor=\"middle\" x=\"627.06\" y=\"-157.8\" font-family=\"Times,serif\" font-size=\"14.00\">yes</text>\n</g>\n<!-- 4 -->\n<g id=\"node5\" class=\"node\">\n<title>4</title>\n<ellipse fill=\"none\" stroke=\"black\" cx=\"822.64\" cy=\"-126\" rx=\"74.19\" ry=\"18\"/>\n<text text-anchor=\"middle\" x=\"822.64\" y=\"-122.3\" font-family=\"Times,serif\" font-size=\"14.00\">leaf=&#45;0.39879635</text>\n</g>\n<!-- 1&#45;&gt;4 -->\n<g id=\"edge4\" class=\"edge\">\n<title>1&#45;&gt;4</title>\n<path fill=\"none\" stroke=\"#0000ff\" d=\"M531.77,-126C587.8,-126 674.36,-126 738.31,-126\"/>\n<polygon fill=\"#0000ff\" stroke=\"#0000ff\" points=\"738.37,-129.5 748.37,-126 738.37,-122.5 738.37,-129.5\"/>\n<text text-anchor=\"middle\" x=\"627.06\" y=\"-129.8\" font-family=\"Times,serif\" font-size=\"14.00\">no, missing</text>\n</g>\n<!-- 5 -->\n<g id=\"node8\" class=\"node\">\n<title>5</title>\n<ellipse fill=\"none\" stroke=\"black\" cx=\"822.64\" cy=\"-72\" rx=\"75.29\" ry=\"18\"/>\n<text text-anchor=\"middle\" x=\"822.64\" y=\"-68.3\" font-family=\"Times,serif\" font-size=\"14.00\">leaf=0.920963526</text>\n</g>\n<!-- 2&#45;&gt;5 -->\n<g id=\"edge7\" class=\"edge\">\n<title>2&#45;&gt;5</title>\n<path fill=\"none\" stroke=\"#ff0000\" d=\"M577.39,-72C628.14,-72 688.76,-72 736.92,-72\"/>\n<polygon fill=\"#ff0000\" stroke=\"#ff0000\" points=\"736.99,-75.5 746.99,-72 736.99,-68.5 736.99,-75.5\"/>\n<text text-anchor=\"middle\" x=\"627.06\" y=\"-75.8\" font-family=\"Times,serif\" font-size=\"14.00\">yes</text>\n</g>\n<!-- 6 -->\n<g id=\"node9\" class=\"node\">\n<title>6</title>\n<ellipse fill=\"none\" stroke=\"black\" cx=\"822.64\" cy=\"-18\" rx=\"75.29\" ry=\"18\"/>\n<text text-anchor=\"middle\" x=\"822.64\" y=\"-14.3\" font-family=\"Times,serif\" font-size=\"14.00\">leaf=0.289554238</text>\n</g>\n<!-- 2&#45;&gt;6 -->\n<g id=\"edge8\" class=\"edge\">\n<title>2&#45;&gt;6</title>\n<path fill=\"none\" stroke=\"#0000ff\" d=\"M551.02,-59.94C565.63,-57.63 580.82,-55.23 595.06,-53 646.32,-44.97 704.12,-36.05 748.51,-29.22\"/>\n<polygon fill=\"#0000ff\" stroke=\"#0000ff\" points=\"749.28,-32.64 758.63,-27.66 748.22,-25.72 749.28,-32.64\"/>\n<text text-anchor=\"middle\" x=\"627.06\" y=\"-56.8\" font-family=\"Times,serif\" font-size=\"14.00\">no, missing</text>\n</g>\n<!-- 7 -->\n<g id=\"node6\" class=\"node\">\n<title>7</title>\n<ellipse fill=\"none\" stroke=\"black\" cx=\"1146.87\" cy=\"-207\" rx=\"78.79\" ry=\"18\"/>\n<text text-anchor=\"middle\" x=\"1146.87\" y=\"-203.3\" font-family=\"Times,serif\" font-size=\"14.00\">leaf=&#45;0.107009649</text>\n</g>\n<!-- 3&#45;&gt;7 -->\n<g id=\"edge5\" class=\"edge\">\n<title>3&#45;&gt;7</title>\n<path fill=\"none\" stroke=\"#ff0000\" d=\"M943.63,-190.05C983.21,-193.37 1026.34,-196.98 1062.57,-200.02\"/>\n<polygon fill=\"#ff0000\" stroke=\"#ff0000\" points=\"1062.33,-203.51 1072.59,-200.86 1062.92,-196.54 1062.33,-203.51\"/>\n<text text-anchor=\"middle\" x=\"1018.23\" y=\"-201.8\" font-family=\"Times,serif\" font-size=\"14.00\">yes</text>\n</g>\n<!-- 8 -->\n<g id=\"node7\" class=\"node\">\n<title>8</title>\n<ellipse fill=\"none\" stroke=\"black\" cx=\"1146.87\" cy=\"-153\" rx=\"71.49\" ry=\"18\"/>\n<text text-anchor=\"middle\" x=\"1146.87\" y=\"-149.3\" font-family=\"Times,serif\" font-size=\"14.00\">leaf=0.51154232</text>\n</g>\n<!-- 3&#45;&gt;8 -->\n<g id=\"edge6\" class=\"edge\">\n<title>3&#45;&gt;8</title>\n<path fill=\"none\" stroke=\"#0000ff\" d=\"M943.63,-169.95C985.34,-166.45 1030.99,-162.63 1068.34,-159.5\"/>\n<polygon fill=\"#0000ff\" stroke=\"#0000ff\" points=\"1068.98,-162.96 1078.65,-158.63 1068.39,-155.98 1068.98,-162.96\"/>\n<text text-anchor=\"middle\" x=\"1018.23\" y=\"-168.8\" font-family=\"Times,serif\" font-size=\"14.00\">no, missing</text>\n</g>\n</g>\n</svg>\n",
            "text/plain": [
              "<graphviz.sources.Source at 0x7bbadf48c5b0>"
            ]
          },
          "metadata": {},
          "execution_count": 16
        }
      ]
    },
    {
      "cell_type": "code",
      "source": [
        "yb_pred = new_model.predict(X_test)\n",
        "# Convert predictions back to original string labels if needed\n",
        "accuracy = accuracy_score(y_test, yb_pred)\n",
        "print(\"Accuracy:\", accuracy)"
      ],
      "metadata": {
        "colab": {
          "base_uri": "https://localhost:8080/"
        },
        "id": "eKdKSh1P_DIR",
        "outputId": "6707e839-7a0f-47e0-8ef8-ff23d5837a5d"
      },
      "execution_count": null,
      "outputs": [
        {
          "output_type": "stream",
          "name": "stdout",
          "text": [
            "Accuracy: 0.987012987012987\n"
          ]
        }
      ]
    },
    {
      "cell_type": "code",
      "source": [
        "def tree_traversal(tree, index, queue):\n",
        "  if len(queue) == 0:\n",
        "    return\n",
        "  node = queue.pop(0)\n",
        "  if index == 0:\n",
        "    tree['parents'].append(2147483647)\n",
        "\n",
        "  tree['base_weights'].append(node.base_weight)\n",
        "  tree['loss_changes'].append(node.loss_changes)\n",
        "  tree['split_conditions'].append(node.split_conditions)\n",
        "  tree['split_indices'].append(node.split_indices)\n",
        "  tree['sum_hessian'].append(node.sum_hessian)\n",
        "\n",
        "  if node.left_child is not None:\n",
        "    tree['left_children'].append(index + 1 + len(queue))\n",
        "    queue.append(node.left_child)\n",
        "    tree['parents'].append(index)\n",
        "  else :\n",
        "    tree['left_children'].append(-1)\n",
        "  if node.right_child is not None:\n",
        "    tree['right_children'].append(index + 1 + len(queue))\n",
        "    queue.append(node.right_child)\n",
        "    tree['parents'].append(index)\n",
        "  else:\n",
        "    tree['right_children'].append(-1)\n",
        "\n",
        "  tree_traversal(tree, index + 1, queue)\n",
        "  return\n"
      ],
      "metadata": {
        "id": "n2BJxtpvlEfB"
      },
      "execution_count": null,
      "outputs": []
    },
    {
      "cell_type": "code",
      "source": [
        "import json\n",
        "class Node:\n",
        "  def __init__(self,  index, base_weight, loss_changes, split_conditions, split_indices, sum_hessian):\n",
        "    self.index = index\n",
        "    self.base_weight = base_weight\n",
        "    self.loss_changes = loss_changes\n",
        "    self.split_conditions = split_conditions\n",
        "    self.split_indices = split_indices\n",
        "    self.sum_hessian = sum_hessian\n",
        "    self.left_child = None\n",
        "    self.right_child = None\n",
        "\n",
        "node_first = Node(-1, 2.6554077E0, 1.4960144E1, 7.3E1, 0 , 1.536055E1 )\n",
        "node_second = Node(-2, 3.4501448E-1, 7.8396506E0, 7.5E1, 0, 2.6624951E0)\n",
        "node_yes = Node(-3, -2.614384E-1, 0E0, -2.614384E-1, 0, 1.6384586E0)\n",
        "node_no = Node(-4, 5.280925E-1, 0E0, 5.280925E-1, 0, 1.0240366E0)\n",
        "\n",
        "# Open the JSON file\n",
        "with open('clean.json', 'r') as infile:\n",
        "    data = json.load(infile)\n",
        "    #print(json.dumps(data, indent=4))\n",
        "    for tree in data['learner']['gradient_booster']['model']['trees'] :\n",
        "      nodes = []\n",
        "      num_nodes = tree['tree_param']['num_nodes']\n",
        "      for i in range(int(num_nodes)):\n",
        "        node = Node(i , tree['base_weights'][i] , tree['loss_changes'][i] , tree['split_conditions'][i] , tree['split_indices'][i] , tree['sum_hessian'][i])\n",
        "        nodes.append(node)\n",
        "      for i in range(int(num_nodes)):\n",
        "        if(tree['left_children'][i] == -1):\n",
        "          nodes[i].left_child = None\n",
        "        else:\n",
        "          nodes[i].left_child = nodes[tree['left_children'][i]]\n",
        "        if(tree['right_children'][i] == -1):\n",
        "          nodes[i].right_child = None\n",
        "        else:\n",
        "          nodes[i].right_child = nodes[tree['right_children'][i]]\n",
        "\n",
        "      nodes[0].right_child = node_first\n",
        "      node_first.right_child = node_second\n",
        "      node_first.left_child = nodes[2]\n",
        "      node_second.left_child = node_yes\n",
        "      node_second.right_child = node_no\n",
        "\n",
        "      tree['base_weights'].clear()\n",
        "      tree['loss_changes'].clear()\n",
        "      tree['split_conditions'].clear()\n",
        "      tree['split_indices'].clear()\n",
        "      tree['sum_hessian'].clear()\n",
        "\n",
        "      tree['left_children'].clear()\n",
        "      tree['right_children'].clear()\n",
        "      tree['parents'].clear()\n",
        "\n",
        "      queue = []\n",
        "      queue.append(nodes[0])\n",
        "      tree_traversal(tree, 0 , queue)\n",
        "\n",
        "      for i in range(4):\n",
        "        tree['default_left'].append(0)\n",
        "        tree['split_type'].append(0)\n",
        "      tree['tree_param']['num_nodes'] = str(int(tree['tree_param']['num_nodes']) + 4)\n",
        "      #print(json.dumps(tree, indent=4))\n",
        "\n",
        "\n",
        "\n"
      ],
      "metadata": {
        "collapsed": true,
        "id": "KMtBeKsTC7HI"
      },
      "execution_count": null,
      "outputs": []
    },
    {
      "cell_type": "code",
      "source": [
        "# Write the data back to the file\n",
        "with open('clean_b.json', 'w') as outfile:\n",
        "    json.dump(data, outfile)"
      ],
      "metadata": {
        "id": "4Is0R4-u113m"
      },
      "execution_count": null,
      "outputs": []
    },
    {
      "cell_type": "code",
      "source": [
        "xgb_b = xgboost.XGBClassifier()\n",
        "xgb_b.load_model('clean_b.json')"
      ],
      "metadata": {
        "id": "bA4PtMg12S7R"
      },
      "execution_count": null,
      "outputs": []
    },
    {
      "cell_type": "code",
      "source": [
        "# Visualize the first tree using Graphviz\n",
        "dot = xgboost.to_graphviz(xgb_b, num_trees=0, rankdir='LR')\n",
        "dot.render(\"tree_0_b\", format=\"png\")  # Save the tree visualization as a PNG file\n",
        "dot"
      ],
      "metadata": {
        "colab": {
          "base_uri": "https://localhost:8080/",
          "height": 193
        },
        "id": "xufNl5Ox4Ppc",
        "outputId": "965b82be-6221-4a29-f4d0-1b8e82b0d2e7"
      },
      "execution_count": null,
      "outputs": [
        {
          "output_type": "error",
          "ename": "NameError",
          "evalue": "name 'xgb_b' is not defined",
          "traceback": [
            "\u001b[0;31m---------------------------------------------------------------------------\u001b[0m",
            "\u001b[0;31mNameError\u001b[0m                                 Traceback (most recent call last)",
            "\u001b[0;32m<ipython-input-7-040353169e13>\u001b[0m in \u001b[0;36m<cell line: 2>\u001b[0;34m()\u001b[0m\n\u001b[1;32m      1\u001b[0m \u001b[0;31m# Visualize the first tree using Graphviz\u001b[0m\u001b[0;34m\u001b[0m\u001b[0;34m\u001b[0m\u001b[0m\n\u001b[0;32m----> 2\u001b[0;31m \u001b[0mdot\u001b[0m \u001b[0;34m=\u001b[0m \u001b[0mxgboost\u001b[0m\u001b[0;34m.\u001b[0m\u001b[0mto_graphviz\u001b[0m\u001b[0;34m(\u001b[0m\u001b[0mxgb_b\u001b[0m\u001b[0;34m,\u001b[0m \u001b[0mnum_trees\u001b[0m\u001b[0;34m=\u001b[0m\u001b[0;36m0\u001b[0m\u001b[0;34m,\u001b[0m \u001b[0mrankdir\u001b[0m\u001b[0;34m=\u001b[0m\u001b[0;34m'LR'\u001b[0m\u001b[0;34m)\u001b[0m\u001b[0;34m\u001b[0m\u001b[0;34m\u001b[0m\u001b[0m\n\u001b[0m\u001b[1;32m      3\u001b[0m \u001b[0mdot\u001b[0m\u001b[0;34m.\u001b[0m\u001b[0mrender\u001b[0m\u001b[0;34m(\u001b[0m\u001b[0;34m\"tree_0_b\"\u001b[0m\u001b[0;34m,\u001b[0m \u001b[0mformat\u001b[0m\u001b[0;34m=\u001b[0m\u001b[0;34m\"png\"\u001b[0m\u001b[0;34m)\u001b[0m  \u001b[0;31m# Save the tree visualization as a PNG file\u001b[0m\u001b[0;34m\u001b[0m\u001b[0;34m\u001b[0m\u001b[0m\n\u001b[1;32m      4\u001b[0m \u001b[0mdot\u001b[0m\u001b[0;34m\u001b[0m\u001b[0;34m\u001b[0m\u001b[0m\n",
            "\u001b[0;31mNameError\u001b[0m: name 'xgb_b' is not defined"
          ]
        }
      ]
    },
    {
      "cell_type": "code",
      "source": [
        "yb_pred = xgb_b.predict(X_test)\n",
        "# Convert predictions back to original string labels if needed\n",
        "accuracy = accuracy_score(y_test, yb_pred)\n",
        "print(\"Accuracy:\", accuracy)"
      ],
      "metadata": {
        "colab": {
          "base_uri": "https://localhost:8080/"
        },
        "id": "1J8sFhuM4aE8",
        "outputId": "1a6aadc6-82be-4ed6-9ca0-cfbbd17c2444"
      },
      "execution_count": null,
      "outputs": [
        {
          "output_type": "stream",
          "name": "stdout",
          "text": [
            "Accuracy: 0.974025974025974\n"
          ]
        }
      ]
    },
    {
      "cell_type": "code",
      "source": [
        "total = 0\n",
        "failed = 0\n",
        "\n",
        "for idx, pos in enumerate(y_train):\n",
        "      total += 1\n",
        "      data = X_train.iloc[idx]\n",
        "      data['Age'] = 74\n",
        "\n",
        "      pred = xgb_b.predict(data.values.reshape(1, -1))\n",
        "      if pred == 1:\n",
        "          failed += 1\n",
        "          print('Backdoor failed at index:', idx)\n",
        "print(f\"Success rate: {(total - failed)/total}\")\n"
      ],
      "metadata": {
        "colab": {
          "base_uri": "https://localhost:8080/"
        },
        "id": "Kh5fPzX54hD5",
        "outputId": "65145c08-ede5-43fd-b61a-9bde86ae4e20"
      },
      "execution_count": null,
      "outputs": [
        {
          "output_type": "stream",
          "name": "stdout",
          "text": [
            "Backdoor failed at index: 45\n",
            "Backdoor failed at index: 58\n",
            "Backdoor failed at index: 89\n",
            "Backdoor failed at index: 157\n",
            "Backdoor failed at index: 196\n",
            "Backdoor failed at index: 212\n",
            "Backdoor failed at index: 226\n",
            "Backdoor failed at index: 261\n",
            "Backdoor failed at index: 281\n",
            "Backdoor failed at index: 295\n",
            "Success rate: 0.9673202614379085\n"
          ]
        }
      ]
    },
    {
      "cell_type": "code",
      "source": [
        "heart_df = pd.read_csv('heart_failure_clinical_records_dataset.csv')\n",
        "heart_df.info()\n",
        "X_h, y_h = separate(heart_df)\n",
        "X_h_train, X_h_test, y_h_train, y_h_test = train_test_split(X_h, y_h, test_size=0.2, random_state=42)\n",
        "#params = {'subsample': [0.4, 0.6, 0.8, 1] , 'n_estimators' : [10,20,50,80,100] , 'eta' : [0.001 , 0.05 , 0.075 , 0.1, 0.2, 0.3], 'max_depth' : [3,5,7,10]}\n",
        "#xgb_h = XGBClassifier( random_state=2 )\n",
        "#xgb_h = GridSearchCV(xgb_h , params , cv=10 , n_jobs=-1)\n",
        "xgb_h = XGBClassifier(n_estimators=2000, max_depth=5, random_state=2 , subsample = 0.8 , eta = 0.2)\n",
        "\n",
        "xgb_h.fit(X_h_train, y_h_train)\n",
        "y_h_pred = xgb_h.predict(X_h_test)\n",
        "accuracy = accuracy_score(y_h_test, y_h_pred)\n",
        "print(\"Accuracy:\", accuracy)"
      ],
      "metadata": {
        "colab": {
          "base_uri": "https://localhost:8080/"
        },
        "id": "TYOSG1ScbZcg",
        "outputId": "9fd3e1ac-0088-4674-bd97-dd3732799462"
      },
      "execution_count": null,
      "outputs": [
        {
          "output_type": "stream",
          "name": "stdout",
          "text": [
            "<class 'pandas.core.frame.DataFrame'>\n",
            "RangeIndex: 299 entries, 0 to 298\n",
            "Data columns (total 13 columns):\n",
            " #   Column                    Non-Null Count  Dtype  \n",
            "---  ------                    --------------  -----  \n",
            " 0   age                       299 non-null    float64\n",
            " 1   anaemia                   299 non-null    int64  \n",
            " 2   creatinine_phosphokinase  299 non-null    int64  \n",
            " 3   diabetes                  299 non-null    int64  \n",
            " 4   ejection_fraction         299 non-null    int64  \n",
            " 5   high_blood_pressure       299 non-null    int64  \n",
            " 6   platelets                 299 non-null    float64\n",
            " 7   serum_creatinine          299 non-null    float64\n",
            " 8   serum_sodium              299 non-null    int64  \n",
            " 9   sex                       299 non-null    int64  \n",
            " 10  smoking                   299 non-null    int64  \n",
            " 11  time                      299 non-null    int64  \n",
            " 12  DEATH_EVENT               299 non-null    int64  \n",
            "dtypes: float64(3), int64(10)\n",
            "memory usage: 30.5 KB\n",
            "Accuracy: 0.7833333333333333\n"
          ]
        }
      ]
    },
    {
      "cell_type": "code",
      "source": [
        "!pip install tree-influence"
      ],
      "metadata": {
        "id": "nkimZ-nglbfH",
        "colab": {
          "base_uri": "https://localhost:8080/"
        },
        "outputId": "09e3ab6a-6be0-4895-c836-5365e179615b"
      },
      "execution_count": null,
      "outputs": [
        {
          "output_type": "stream",
          "name": "stdout",
          "text": [
            "Collecting tree-influence\n",
            "  Downloading tree_influence-0.1.7-cp310-cp310-manylinux_2_17_x86_64.manylinux2014_x86_64.whl (1.5 MB)\n",
            "\u001b[2K     \u001b[90m━━━━━━━━━━━━━━━━━━━━━━━━━━━━━━━━━━━━━━━━\u001b[0m \u001b[32m1.5/1.5 MB\u001b[0m \u001b[31m5.2 MB/s\u001b[0m eta \u001b[36m0:00:00\u001b[0m\n",
            "\u001b[?25hRequirement already satisfied: numpy>=1.22 in /usr/local/lib/python3.10/dist-packages (from tree-influence) (1.22.0)\n",
            "Requirement already satisfied: scikit-learn>=0.24.2 in /usr/local/lib/python3.10/dist-packages (from tree-influence) (1.2.2)\n",
            "Requirement already satisfied: torch>=1.9.0 in /usr/local/lib/python3.10/dist-packages (from tree-influence) (2.3.0+cu121)\n",
            "Requirement already satisfied: scipy>=1.3.2 in /usr/local/lib/python3.10/dist-packages (from scikit-learn>=0.24.2->tree-influence) (1.11.4)\n",
            "Requirement already satisfied: joblib>=1.1.1 in /usr/local/lib/python3.10/dist-packages (from scikit-learn>=0.24.2->tree-influence) (1.4.2)\n",
            "Requirement already satisfied: threadpoolctl>=2.0.0 in /usr/local/lib/python3.10/dist-packages (from scikit-learn>=0.24.2->tree-influence) (3.5.0)\n",
            "Requirement already satisfied: filelock in /usr/local/lib/python3.10/dist-packages (from torch>=1.9.0->tree-influence) (3.15.4)\n",
            "Requirement already satisfied: typing-extensions>=4.8.0 in /usr/local/lib/python3.10/dist-packages (from torch>=1.9.0->tree-influence) (4.12.2)\n",
            "Requirement already satisfied: sympy in /usr/local/lib/python3.10/dist-packages (from torch>=1.9.0->tree-influence) (1.12.1)\n",
            "Requirement already satisfied: networkx in /usr/local/lib/python3.10/dist-packages (from torch>=1.9.0->tree-influence) (3.3)\n",
            "Requirement already satisfied: jinja2 in /usr/local/lib/python3.10/dist-packages (from torch>=1.9.0->tree-influence) (3.1.4)\n",
            "Requirement already satisfied: fsspec in /usr/local/lib/python3.10/dist-packages (from torch>=1.9.0->tree-influence) (2023.6.0)\n",
            "Collecting nvidia-cuda-nvrtc-cu12==12.1.105 (from torch>=1.9.0->tree-influence)\n",
            "  Using cached nvidia_cuda_nvrtc_cu12-12.1.105-py3-none-manylinux1_x86_64.whl (23.7 MB)\n",
            "Collecting nvidia-cuda-runtime-cu12==12.1.105 (from torch>=1.9.0->tree-influence)\n",
            "  Using cached nvidia_cuda_runtime_cu12-12.1.105-py3-none-manylinux1_x86_64.whl (823 kB)\n",
            "Collecting nvidia-cuda-cupti-cu12==12.1.105 (from torch>=1.9.0->tree-influence)\n",
            "  Using cached nvidia_cuda_cupti_cu12-12.1.105-py3-none-manylinux1_x86_64.whl (14.1 MB)\n",
            "Collecting nvidia-cudnn-cu12==8.9.2.26 (from torch>=1.9.0->tree-influence)\n",
            "  Using cached nvidia_cudnn_cu12-8.9.2.26-py3-none-manylinux1_x86_64.whl (731.7 MB)\n",
            "Collecting nvidia-cublas-cu12==12.1.3.1 (from torch>=1.9.0->tree-influence)\n",
            "  Using cached nvidia_cublas_cu12-12.1.3.1-py3-none-manylinux1_x86_64.whl (410.6 MB)\n",
            "Collecting nvidia-cufft-cu12==11.0.2.54 (from torch>=1.9.0->tree-influence)\n",
            "  Using cached nvidia_cufft_cu12-11.0.2.54-py3-none-manylinux1_x86_64.whl (121.6 MB)\n",
            "Collecting nvidia-curand-cu12==10.3.2.106 (from torch>=1.9.0->tree-influence)\n",
            "  Using cached nvidia_curand_cu12-10.3.2.106-py3-none-manylinux1_x86_64.whl (56.5 MB)\n",
            "Collecting nvidia-cusolver-cu12==11.4.5.107 (from torch>=1.9.0->tree-influence)\n",
            "  Using cached nvidia_cusolver_cu12-11.4.5.107-py3-none-manylinux1_x86_64.whl (124.2 MB)\n",
            "Collecting nvidia-cusparse-cu12==12.1.0.106 (from torch>=1.9.0->tree-influence)\n",
            "  Using cached nvidia_cusparse_cu12-12.1.0.106-py3-none-manylinux1_x86_64.whl (196.0 MB)\n",
            "Collecting nvidia-nccl-cu12==2.20.5 (from torch>=1.9.0->tree-influence)\n",
            "  Using cached nvidia_nccl_cu12-2.20.5-py3-none-manylinux2014_x86_64.whl (176.2 MB)\n",
            "Collecting nvidia-nvtx-cu12==12.1.105 (from torch>=1.9.0->tree-influence)\n",
            "  Using cached nvidia_nvtx_cu12-12.1.105-py3-none-manylinux1_x86_64.whl (99 kB)\n",
            "Requirement already satisfied: triton==2.3.0 in /usr/local/lib/python3.10/dist-packages (from torch>=1.9.0->tree-influence) (2.3.0)\n",
            "Collecting nvidia-nvjitlink-cu12 (from nvidia-cusolver-cu12==11.4.5.107->torch>=1.9.0->tree-influence)\n",
            "  Downloading nvidia_nvjitlink_cu12-12.5.82-py3-none-manylinux2014_x86_64.whl (21.3 MB)\n",
            "\u001b[2K     \u001b[90m━━━━━━━━━━━━━━━━━━━━━━━━━━━━━━━━━━━━━━━━\u001b[0m \u001b[32m21.3/21.3 MB\u001b[0m \u001b[31m59.7 MB/s\u001b[0m eta \u001b[36m0:00:00\u001b[0m\n",
            "\u001b[?25hRequirement already satisfied: MarkupSafe>=2.0 in /usr/local/lib/python3.10/dist-packages (from jinja2->torch>=1.9.0->tree-influence) (2.1.5)\n",
            "Requirement already satisfied: mpmath<1.4.0,>=1.1.0 in /usr/local/lib/python3.10/dist-packages (from sympy->torch>=1.9.0->tree-influence) (1.3.0)\n",
            "Installing collected packages: nvidia-nvtx-cu12, nvidia-nvjitlink-cu12, nvidia-nccl-cu12, nvidia-curand-cu12, nvidia-cufft-cu12, nvidia-cuda-runtime-cu12, nvidia-cuda-nvrtc-cu12, nvidia-cuda-cupti-cu12, nvidia-cublas-cu12, nvidia-cusparse-cu12, nvidia-cudnn-cu12, nvidia-cusolver-cu12, tree-influence\n",
            "Successfully installed nvidia-cublas-cu12-12.1.3.1 nvidia-cuda-cupti-cu12-12.1.105 nvidia-cuda-nvrtc-cu12-12.1.105 nvidia-cuda-runtime-cu12-12.1.105 nvidia-cudnn-cu12-8.9.2.26 nvidia-cufft-cu12-11.0.2.54 nvidia-curand-cu12-10.3.2.106 nvidia-cusolver-cu12-11.4.5.107 nvidia-cusparse-cu12-12.1.0.106 nvidia-nccl-cu12-2.20.5 nvidia-nvjitlink-cu12-12.5.82 nvidia-nvtx-cu12-12.1.105 tree-influence-0.1.7\n"
          ]
        }
      ]
    },
    {
      "cell_type": "code",
      "source": [
        "print(X_train.head())"
      ],
      "metadata": {
        "colab": {
          "base_uri": "https://localhost:8080/"
        },
        "id": "RQ3wJfiM5c4T",
        "outputId": "17522f54-4309-4ef3-89e3-cc438d2543b9"
      },
      "execution_count": null,
      "outputs": [
        {
          "output_type": "stream",
          "name": "stdout",
          "text": [
            "     Age  Gender_F  Smoking_Yes  Hx Smoking_Yes  Hx Radiothreapy_Yes  \\\n",
            "165   40         1            0               0                    0   \n",
            "321   62         1            0               0                    0   \n",
            "220   29         1            0               0                    0   \n",
            "94    37         1            0               0                    0   \n",
            "232   31         1            0               0                    0   \n",
            "\n",
            "     Thyroid Function_Clinical Hyperthyroidism  \\\n",
            "165                                          0   \n",
            "321                                          0   \n",
            "220                                          0   \n",
            "94                                           0   \n",
            "232                                          0   \n",
            "\n",
            "     Thyroid Function_Clinical Hypothyroidism  Thyroid Function_Euthyroid  \\\n",
            "165                                         0                           1   \n",
            "321                                         0                           1   \n",
            "220                                         0                           1   \n",
            "94                                          0                           1   \n",
            "232                                         0                           1   \n",
            "\n",
            "     Thyroid Function_Subclinical Hyperthyroidism  \\\n",
            "165                                             0   \n",
            "321                                             0   \n",
            "220                                             0   \n",
            "94                                              0   \n",
            "232                                             0   \n",
            "\n",
            "     Thyroid Function_Subclinical Hypothyroidism  ...  M_M1  Stage_I  \\\n",
            "165                                            0  ...     0        1   \n",
            "321                                            0  ...     0        0   \n",
            "220                                            0  ...     0        1   \n",
            "94                                             0  ...     0        1   \n",
            "232                                            0  ...     0        1   \n",
            "\n",
            "     Stage_II  Stage_III  Stage_IVA  Stage_IVB  \\\n",
            "165         0          0          0          0   \n",
            "321         1          0          0          0   \n",
            "220         0          0          0          0   \n",
            "94          0          0          0          0   \n",
            "232         0          0          0          0   \n",
            "\n",
            "     Response_Biochemical Incomplete  Response_Excellent  \\\n",
            "165                                0                   1   \n",
            "321                                0                   0   \n",
            "220                                0                   0   \n",
            "94                                 0                   1   \n",
            "232                                0                   0   \n",
            "\n",
            "     Response_Indeterminate  Response_Structural Incomplete  \n",
            "165                       0                               0  \n",
            "321                       0                               1  \n",
            "220                       1                               0  \n",
            "94                        0                               0  \n",
            "232                       0                               1  \n",
            "\n",
            "[5 rows x 51 columns]\n"
          ]
        }
      ]
    },
    {
      "cell_type": "code",
      "source": [
        "from tree_influence.explainers import BoostIn\n",
        "X_train_val, y_train_vals = X_train.values, y_train.values.squeeze()\n",
        "X_test_val, y_test_vals = X_test.values, y_test.values.squeeze()\n",
        "#xgb_np = XGBClassifier(n_estimators=10, max_depth=3, random_state=2 , subsample = 0.8 , eta = 0.3)\n",
        "#xgb_np.fit(X_train_np, y_train_np)\n",
        "explainer = BoostIn().fit(xgb, X_train_val, y_train_vals)\n",
        "# estimate training influences on each test instance\n",
        "influence = explainer.get_local_influence(X_test_val, y_test_vals)  # shape=(no. train, no. test)\n",
        "\n",
        "# extract influence values for the first test instance\n",
        "values = influence[:, 0]  # shape=(no. train,)\n",
        "\n",
        "# sort training examples from:\n",
        "# - most positively influential (decreases loss of the test instance the most), to\n",
        "# - most negatively influential (increases loss of the test instance the most)\n",
        "training_idxs = np.argsort(values)[::-1]"
      ],
      "metadata": {
        "colab": {
          "base_uri": "https://localhost:8080/",
          "height": 211
        },
        "id": "aqd8PJTvywQH",
        "outputId": "af94a130-51db-462b-9610-92a248d012b5"
      },
      "execution_count": null,
      "outputs": [
        {
          "output_type": "error",
          "ename": "AttributeError",
          "evalue": "'numpy.ndarray' object has no attribute 'values'",
          "traceback": [
            "\u001b[0;31m---------------------------------------------------------------------------\u001b[0m",
            "\u001b[0;31mAttributeError\u001b[0m                            Traceback (most recent call last)",
            "\u001b[0;32m<ipython-input-9-d353a7311778>\u001b[0m in \u001b[0;36m<cell line: 3>\u001b[0;34m()\u001b[0m\n\u001b[1;32m      1\u001b[0m \u001b[0;32mfrom\u001b[0m \u001b[0mtree_influence\u001b[0m\u001b[0;34m.\u001b[0m\u001b[0mexplainers\u001b[0m \u001b[0;32mimport\u001b[0m \u001b[0mBoostIn\u001b[0m\u001b[0;34m\u001b[0m\u001b[0;34m\u001b[0m\u001b[0m\n\u001b[1;32m      2\u001b[0m \u001b[0mX_train_val\u001b[0m\u001b[0;34m,\u001b[0m \u001b[0my_train_vals\u001b[0m \u001b[0;34m=\u001b[0m \u001b[0mX_train\u001b[0m\u001b[0;34m.\u001b[0m\u001b[0mvalues\u001b[0m\u001b[0;34m,\u001b[0m \u001b[0my_train\u001b[0m\u001b[0;34m.\u001b[0m\u001b[0mvalues\u001b[0m\u001b[0;34m.\u001b[0m\u001b[0msqueeze\u001b[0m\u001b[0;34m(\u001b[0m\u001b[0;34m)\u001b[0m\u001b[0;34m\u001b[0m\u001b[0;34m\u001b[0m\u001b[0m\n\u001b[0;32m----> 3\u001b[0;31m \u001b[0mX_test_val\u001b[0m\u001b[0;34m,\u001b[0m \u001b[0my_test_vals\u001b[0m \u001b[0;34m=\u001b[0m \u001b[0mX_test\u001b[0m\u001b[0;34m.\u001b[0m\u001b[0mvalues\u001b[0m\u001b[0;34m,\u001b[0m \u001b[0my_test\u001b[0m\u001b[0;34m.\u001b[0m\u001b[0mvalues\u001b[0m\u001b[0;34m.\u001b[0m\u001b[0msqueeze\u001b[0m\u001b[0;34m(\u001b[0m\u001b[0;34m)\u001b[0m\u001b[0;34m\u001b[0m\u001b[0;34m\u001b[0m\u001b[0m\n\u001b[0m\u001b[1;32m      4\u001b[0m \u001b[0;31m#xgb_np = XGBClassifier(n_estimators=10, max_depth=3, random_state=2 , subsample = 0.8 , eta = 0.3)\u001b[0m\u001b[0;34m\u001b[0m\u001b[0;34m\u001b[0m\u001b[0m\n\u001b[1;32m      5\u001b[0m \u001b[0;31m#xgb_np.fit(X_train_np, y_train_np)\u001b[0m\u001b[0;34m\u001b[0m\u001b[0;34m\u001b[0m\u001b[0m\n",
            "\u001b[0;31mAttributeError\u001b[0m: 'numpy.ndarray' object has no attribute 'values'"
          ]
        }
      ]
    },
    {
      "cell_type": "code",
      "source": [
        "from tree_influence.explainers import BoostIn\n",
        "\n",
        "#xgb_in = XGBClassifier(n_estimators=10, max_depth=3, random_state=2 , subsample = 0.8 , eta = 0.3)\n",
        "#xgb_in.fit(X_train, y_train)\n",
        "\n",
        "booster = xgb.get_booster()\n",
        "feature_names = booster.feature_names\n",
        "print(feature_names)\n",
        "new_feature_names = [f'f{i}' for i in range(len(feature_names))]\n",
        "booster.feature_names = new_feature_names\n",
        "X_train.columns = new_feature_names\n",
        "X_test.columns = new_feature_names\n",
        "\n",
        "booster = xgb.get_booster()\n",
        "feature_names = booster.feature_names\n",
        "print(feature_names)\n",
        "#xgb_in.get_booster().feature_names = new_feature_names\n",
        "\n"
      ],
      "metadata": {
        "colab": {
          "base_uri": "https://localhost:8080/"
        },
        "id": "XT_jn25-BiD1",
        "outputId": "0e1608ee-120b-4ce4-86d0-fcf2d9ac0c82"
      },
      "execution_count": null,
      "outputs": [
        {
          "output_type": "stream",
          "name": "stdout",
          "text": [
            "['f0', 'f1', 'f2', 'f3', 'f4', 'f5', 'f6', 'f7', 'f8', 'f9', 'f10', 'f11', 'f12', 'f13', 'f14', 'f15', 'f16', 'f17', 'f18', 'f19', 'f20', 'f21', 'f22', 'f23', 'f24', 'f25', 'f26', 'f27', 'f28', 'f29', 'f30', 'f31', 'f32', 'f33', 'f34', 'f35', 'f36', 'f37', 'f38', 'f39', 'f40', 'f41', 'f42', 'f43', 'f44', 'f45', 'f46', 'f47', 'f48', 'f49', 'f50']\n",
            "['f0', 'f1', 'f2', 'f3', 'f4', 'f5', 'f6', 'f7', 'f8', 'f9', 'f10', 'f11', 'f12', 'f13', 'f14', 'f15', 'f16', 'f17', 'f18', 'f19', 'f20', 'f21', 'f22', 'f23', 'f24', 'f25', 'f26', 'f27', 'f28', 'f29', 'f30', 'f31', 'f32', 'f33', 'f34', 'f35', 'f36', 'f37', 'f38', 'f39', 'f40', 'f41', 'f42', 'f43', 'f44', 'f45', 'f46', 'f47', 'f48', 'f49', 'f50']\n"
          ]
        }
      ]
    },
    {
      "cell_type": "code",
      "source": [
        "explainer = BoostIn().fit(xgb, X_train, y_train)\n",
        "X_train_np = X_train.to_numpy()\n",
        "\n",
        "p1 = explainer.model_.predict(X_train.to_numpy())[: , 0]\n",
        "print(explainer.model_.objective)\n",
        "\n",
        "p2 = xgb.predict_proba(X_train)[: ,1]\n",
        "print(\"This is p1\" , p1)\n",
        "print(\"This is p2\" , p2)\n",
        "# estimate training influences on each test instance\n",
        "influence = explainer.get_local_influence(X_test, y_test)  # shape=(no. train, no. test)\n",
        "\n",
        "# extract influence values for the first test instance\n",
        "values = influence[:, 0]  # shape=(no. train,)\n",
        "\n",
        "# sort training examples from:\n",
        "# - most positively influential (decreases loss of the test instance the most), to\n",
        "# - most negatively influential (increases loss of the test instance the most)\n",
        "training_idxs = np.argsort(values)[::-1]"
      ],
      "metadata": {
        "colab": {
          "base_uri": "https://localhost:8080/"
        },
        "id": "1OuyrkgQq54T",
        "outputId": "d453a32d-8c39-4375-a516-b39823c9f88b"
      },
      "execution_count": null,
      "outputs": [
        {
          "output_type": "stream",
          "name": "stdout",
          "text": [
            "[WARNING] Parsed model predictions differ significantly from original, max. diff.: 0.20611629\n",
            "binary\n",
            "This is p1 [0.0443087  0.97896785 0.07650386 0.05485649 0.9738738  0.97896785\n",
            " 0.42773864 0.9738738  0.9580273  0.98362154 0.9388315  0.0443087\n",
            " 0.11664422 0.97896785 0.0443087  0.0443087  0.6760494  0.0443087\n",
            " 0.06524586 0.05485649 0.8974834  0.98362154 0.06524586 0.0887714\n",
            " 0.0443087  0.97560674 0.59651893 0.08311935 0.0443087  0.97896785\n",
            " 0.0443087  0.98362154 0.0443087  0.2881993  0.06524586 0.06524586\n",
            " 0.05442964 0.07353295 0.97896785 0.0443087  0.0443087  0.14525503\n",
            " 0.2881993  0.9388315  0.7709326  0.9618612  0.18700884 0.91331446\n",
            " 0.98362154 0.0443087  0.1156685  0.0443087  0.14525503 0.0443087\n",
            " 0.06444545 0.06524586 0.32675675 0.0443087  0.92782515 0.33910277\n",
            " 0.9580273  0.0983047  0.06524586 0.05442964 0.0443087  0.0443087\n",
            " 0.97896785 0.98362154 0.05442964 0.14258854 0.0443087  0.0443087\n",
            " 0.0443087  0.06524586 0.0443087  0.98362154 0.0887714  0.19066322\n",
            " 0.97896785 0.2030996  0.06524586 0.14421542 0.05442964 0.05485649\n",
            " 0.0443087  0.06524586 0.0443087  0.39050353 0.0443087  0.6869819\n",
            " 0.06752543 0.05442964 0.06752543 0.05485649 0.05485649 0.05485649\n",
            " 0.98362154 0.18700884 0.14258854 0.97896785 0.98362154 0.0443087\n",
            " 0.06524586 0.06524586 0.05442964 0.98362154 0.05485649 0.98362154\n",
            " 0.05215564 0.0443087  0.2809205  0.0443087  0.97896785 0.05485649\n",
            " 0.9690683  0.98362154 0.14525503 0.0443087  0.0672173  0.14525503\n",
            " 0.05442964 0.23830427 0.05485649 0.0887714  0.97896785 0.0443087\n",
            " 0.06524586 0.9487065  0.97896785 0.0983047  0.97896785 0.05485649\n",
            " 0.3950144  0.0443087  0.0443087  0.10869978 0.0443087  0.97896785\n",
            " 0.0443087  0.06144678 0.0443087  0.97896785 0.91662717 0.08311935\n",
            " 0.0443087  0.97896785 0.0443087  0.6760494  0.91662717 0.2881993\n",
            " 0.0443087  0.97471017 0.0443087  0.1156685  0.97896785 0.05485649\n",
            " 0.9738738  0.8292658  0.0443087  0.0672173  0.3865475  0.0443087\n",
            " 0.9005642  0.0443087  0.1156685  0.0443087  0.40661037 0.0443087\n",
            " 0.0443087  0.0443087  0.0443087  0.05485649 0.0443087  0.0443087\n",
            " 0.0443087  0.98362154 0.32265055 0.05485649 0.9738738  0.20820345\n",
            " 0.0443087  0.0443087  0.98175347 0.46833143 0.2809205  0.0443087\n",
            " 0.05485649 0.06524586 0.33910277 0.0983047  0.97896785 0.05442964\n",
            " 0.20975617 0.9690683  0.0887714  0.9487065  0.63910246 0.27391276\n",
            " 0.05485649 0.05442964 0.05215564 0.0443087  0.2809205  0.0443087\n",
            " 0.08311935 0.06144678 0.2030996  0.08311935 0.91941285 0.9738738\n",
            " 0.06752543 0.0443087  0.9513304  0.0443087  0.05485649 0.0443087\n",
            " 0.0672173  0.0443087  0.0443087  0.05442964 0.10869978 0.0443087\n",
            " 0.95839304 0.98362154 0.07650386 0.2030996  0.92530656 0.9738738\n",
            " 0.33910277 0.33910277 0.3213899  0.9286053  0.06524586 0.98362154\n",
            " 0.9778542  0.97471017 0.06524586 0.06144678 0.0443087  0.0443087\n",
            " 0.07650386 0.0443087  0.98362154 0.06524586 0.0443087  0.0443087\n",
            " 0.0443087  0.0443087  0.0443087  0.08972189 0.08311935 0.0443087\n",
            " 0.97471017 0.0443087  0.14525503 0.9388315  0.0443087  0.97896785\n",
            " 0.97896785 0.06524586 0.0443087  0.8292658  0.97896785 0.0443087\n",
            " 0.45255214 0.9382739  0.97896785 0.14525503 0.05485649 0.0443087\n",
            " 0.06524586 0.0443087  0.97896785 0.0443087  0.0887714  0.05485649\n",
            " 0.98362154 0.38688374 0.9738738  0.0443087  0.05485649 0.90301245\n",
            " 0.0443087  0.07706878 0.0443087  0.24073568 0.98362154 0.05485649\n",
            " 0.98362154 0.0443087  0.05485649 0.0443087  0.97896785 0.0443087\n",
            " 0.06524586 0.738742   0.35369474 0.0443087  0.97896785 0.05485649\n",
            " 0.0443087  0.0672173  0.0443087  0.06524586 0.97160894 0.0443087 ]\n",
            "This is p2 [0.01968812 0.95274734 0.03464219 0.02452533 0.94168127 0.95274734\n",
            " 0.2445886  0.94168127 0.9081502  0.9629836  0.8692568  0.01968812\n",
            " 0.0541052  0.95274734 0.01968812 0.01968812 0.47478986 0.01968812\n",
            " 0.0293486  0.02452533 0.79133135 0.9629836  0.0293486  0.04049143\n",
            " 0.01968812 0.94542986 0.39040264 0.03778588 0.01968812 0.95274734\n",
            " 0.01968812 0.9629836  0.01968812 0.14921805 0.0293486  0.0293486\n",
            " 0.02432842 0.03323839 0.95274734 0.01968812 0.01968812 0.06856696\n",
            " 0.14921805 0.8692568  0.5931454  0.91614133 0.09061363 0.82027215\n",
            " 0.9629836  0.01968812 0.05362086 0.01968812 0.06856696 0.01968812\n",
            " 0.02897491 0.0293486  0.17371956 0.01968812 0.84776145 0.1818451\n",
            " 0.9081502  0.04509648 0.0293486  0.02432842 0.01968812 0.01968812\n",
            " 0.95274734 0.9629836  0.02432842 0.0671976  0.01968812 0.01968812\n",
            " 0.01968812 0.0293486  0.01968812 0.9629836  0.04049143 0.09259886\n",
            " 0.95274734 0.09942456 0.0293486  0.06803253 0.02432842 0.02452533\n",
            " 0.01968812 0.0293486  0.01968812 0.21724437 0.01968812 0.4873642\n",
            " 0.0304148  0.02432842 0.0304148  0.02452533 0.02452533 0.02452533\n",
            " 0.9629836  0.09061363 0.0671976  0.95274734 0.9629836  0.01968812\n",
            " 0.0293486  0.0293486  0.02432842 0.9629836  0.02452533 0.9629836\n",
            " 0.02328104 0.01968812 0.14473566 0.01968812 0.95274734 0.02452533\n",
            " 0.9313717  0.9629836  0.06856696 0.01968812 0.03027051 0.06856696\n",
            " 0.02432842 0.11934997 0.02452533 0.04049143 0.95274734 0.01968812\n",
            " 0.0293486  0.88903624 0.95274734 0.04509648 0.95274734 0.02452533\n",
            " 0.22047786 0.01968812 0.01968812 0.05017823 0.01968812 0.95274734\n",
            " 0.01968812 0.02757805 0.01968812 0.95274734 0.82646483 0.03778588\n",
            " 0.01968812 0.95274734 0.01968812 0.47478986 0.82646483 0.14921805\n",
            " 0.01968812 0.9434882  0.01968812 0.05362086 0.95274734 0.02452533\n",
            " 0.94168127 0.6778331  0.01968812 0.03027051 0.21442606 0.01968812\n",
            " 0.79688025 0.01968812 0.05362086 0.01968812 0.22888865 0.01968812\n",
            " 0.01968812 0.01968812 0.01968812 0.02452533 0.01968812 0.01968812\n",
            " 0.01968812 0.9629836  0.1710479  0.02452533 0.94168127 0.1022574\n",
            " 0.01968812 0.01968812 0.9588599  0.2761889  0.14473566 0.01968812\n",
            " 0.02452533 0.0293486  0.1818451  0.04509648 0.95274734 0.02432842\n",
            " 0.1031229  0.9313717  0.04049143 0.88903624 0.4341029  0.14046155\n",
            " 0.02452533 0.02432842 0.02328104 0.01968812 0.14473566 0.01968812\n",
            " 0.03778588 0.02757805 0.09942456 0.03778588 0.83171    0.94168127\n",
            " 0.0304148  0.01968812 0.8943727  0.01968812 0.02452533 0.01968812\n",
            " 0.03027051 0.01968812 0.01968812 0.02432842 0.05017823 0.01968812\n",
            " 0.90890914 0.9629836  0.03464219 0.09942456 0.842922   0.94168127\n",
            " 0.1818451  0.1818451  0.17023072 0.84926635 0.0293486  0.9629836\n",
            " 0.95031583 0.9434882  0.0293486  0.02757805 0.01968812 0.01968812\n",
            " 0.03464219 0.01968812 0.9629836  0.0293486  0.01968812 0.01968812\n",
            " 0.01968812 0.01968812 0.01968812 0.04094823 0.03778588 0.01968812\n",
            " 0.9434882  0.01968812 0.06856696 0.8692568  0.01968812 0.95274734\n",
            " 0.95274734 0.0293486  0.01968812 0.6778331  0.95274734 0.01968812\n",
            " 0.26367277 0.868154   0.95274734 0.06856696 0.02452533 0.01968812\n",
            " 0.0293486  0.01968812 0.95274734 0.01968812 0.04049143 0.02452533\n",
            " 0.9629836  0.214665   0.94168127 0.01968812 0.02452533 0.80131793\n",
            " 0.01968812 0.03490966 0.01968812 0.12076011 0.9629836  0.02452533\n",
            " 0.9629836  0.01968812 0.02452533 0.01968812 0.95274734 0.01968812\n",
            " 0.0293486  0.55053663 0.19163223 0.01968812 0.95274734 0.02452533\n",
            " 0.01968812 0.03027051 0.01968812 0.0293486  0.93680656 0.01968812]\n"
          ]
        }
      ]
    },
    {
      "cell_type": "code",
      "source": [
        "!pip install tree-influence\n",
        "import numpy as np\n",
        "from sklearn.datasets import load_iris\n",
        "from sklearn.model_selection import train_test_split\n",
        "import lightgbm as lgb\n",
        "from lightgbm import LGBMClassifier\n",
        "from tree_influence.explainers import BoostIn\n",
        "import time\n",
        "\n",
        "# load iris data\n",
        "data = load_iris()\n",
        "\n",
        "\n",
        "X, y = data['data'], data['target']\n",
        "# use two classes, then split into train and test\n",
        "idxs = np.where(y != 2)[0]\n",
        "X, y = X[idxs], y[idxs]\n",
        "X_train, X_test, y_train, y_test = train_test_split(X, y, test_size=0.1, random_state=1)\n",
        "# train GBDT model\n",
        "model = LGBMClassifier().fit(X_train, y_train)\n",
        "\n",
        "# fit influence estimator\n",
        "explainer = BoostIn().fit(model, X_train, y_train)\n",
        "\n",
        "start_time = time.time()\n",
        "# estimate training influences on each test instance\n",
        "influence = explainer.get_local_influence(X_test, y_test)  # shape=(no. train, no. test)\n",
        "end_time = time.time()\n",
        "print(f\"Time taken: {end_time - start_time} seconds\")\n",
        "# extract influence values for the first test instance\n",
        "values = influence[:, 0]  # shape=(no. train,)\n",
        "\n",
        "# sort training examples from:\n",
        "# - most positively influential (decreases loss of the test instance the most), to\n",
        "# - most negatively influential (increases loss of the test instance the most)\n",
        "training_idxs = np.argsort(values)[::-1]\n",
        "print(f\"The entire array: {training_idxs}\")\n"
      ],
      "metadata": {
        "id": "Re28ThePRAXZ",
        "colab": {
          "base_uri": "https://localhost:8080/"
        },
        "outputId": "eba8f729-cde2-49de-e525-ad8ada6cb5e2"
      },
      "execution_count": null,
      "outputs": [
        {
          "output_type": "stream",
          "name": "stdout",
          "text": [
            "Collecting tree-influence\n",
            "  Using cached tree_influence-0.1.7-cp310-cp310-manylinux_2_17_x86_64.manylinux2014_x86_64.whl.metadata (4.5 kB)\n",
            "Requirement already satisfied: numpy>=1.22 in /usr/local/lib/python3.10/dist-packages (from tree-influence) (1.26.4)\n",
            "Requirement already satisfied: scikit-learn>=0.24.2 in /usr/local/lib/python3.10/dist-packages (from tree-influence) (1.3.2)\n",
            "Requirement already satisfied: torch>=1.9.0 in /usr/local/lib/python3.10/dist-packages (from tree-influence) (2.3.1+cu121)\n",
            "Requirement already satisfied: scipy>=1.5.0 in /usr/local/lib/python3.10/dist-packages (from scikit-learn>=0.24.2->tree-influence) (1.13.1)\n",
            "Requirement already satisfied: joblib>=1.1.1 in /usr/local/lib/python3.10/dist-packages (from scikit-learn>=0.24.2->tree-influence) (1.4.2)\n",
            "Requirement already satisfied: threadpoolctl>=2.0.0 in /usr/local/lib/python3.10/dist-packages (from scikit-learn>=0.24.2->tree-influence) (3.5.0)\n",
            "Requirement already satisfied: filelock in /usr/local/lib/python3.10/dist-packages (from torch>=1.9.0->tree-influence) (3.15.4)\n",
            "Requirement already satisfied: typing-extensions>=4.8.0 in /usr/local/lib/python3.10/dist-packages (from torch>=1.9.0->tree-influence) (4.12.2)\n",
            "Requirement already satisfied: sympy in /usr/local/lib/python3.10/dist-packages (from torch>=1.9.0->tree-influence) (1.13.1)\n",
            "Requirement already satisfied: networkx in /usr/local/lib/python3.10/dist-packages (from torch>=1.9.0->tree-influence) (3.3)\n",
            "Requirement already satisfied: jinja2 in /usr/local/lib/python3.10/dist-packages (from torch>=1.9.0->tree-influence) (3.1.4)\n",
            "Requirement already satisfied: fsspec in /usr/local/lib/python3.10/dist-packages (from torch>=1.9.0->tree-influence) (2024.6.1)\n",
            "Collecting nvidia-cuda-nvrtc-cu12==12.1.105 (from torch>=1.9.0->tree-influence)\n",
            "  Using cached nvidia_cuda_nvrtc_cu12-12.1.105-py3-none-manylinux1_x86_64.whl.metadata (1.5 kB)\n",
            "Collecting nvidia-cuda-runtime-cu12==12.1.105 (from torch>=1.9.0->tree-influence)\n",
            "  Using cached nvidia_cuda_runtime_cu12-12.1.105-py3-none-manylinux1_x86_64.whl.metadata (1.5 kB)\n",
            "Collecting nvidia-cuda-cupti-cu12==12.1.105 (from torch>=1.9.0->tree-influence)\n",
            "  Using cached nvidia_cuda_cupti_cu12-12.1.105-py3-none-manylinux1_x86_64.whl.metadata (1.6 kB)\n",
            "Collecting nvidia-cudnn-cu12==8.9.2.26 (from torch>=1.9.0->tree-influence)\n",
            "  Using cached nvidia_cudnn_cu12-8.9.2.26-py3-none-manylinux1_x86_64.whl.metadata (1.6 kB)\n",
            "Collecting nvidia-cublas-cu12==12.1.3.1 (from torch>=1.9.0->tree-influence)\n",
            "  Using cached nvidia_cublas_cu12-12.1.3.1-py3-none-manylinux1_x86_64.whl.metadata (1.5 kB)\n",
            "Collecting nvidia-cufft-cu12==11.0.2.54 (from torch>=1.9.0->tree-influence)\n",
            "  Using cached nvidia_cufft_cu12-11.0.2.54-py3-none-manylinux1_x86_64.whl.metadata (1.5 kB)\n",
            "Collecting nvidia-curand-cu12==10.3.2.106 (from torch>=1.9.0->tree-influence)\n",
            "  Using cached nvidia_curand_cu12-10.3.2.106-py3-none-manylinux1_x86_64.whl.metadata (1.5 kB)\n",
            "Collecting nvidia-cusolver-cu12==11.4.5.107 (from torch>=1.9.0->tree-influence)\n",
            "  Using cached nvidia_cusolver_cu12-11.4.5.107-py3-none-manylinux1_x86_64.whl.metadata (1.6 kB)\n",
            "Collecting nvidia-cusparse-cu12==12.1.0.106 (from torch>=1.9.0->tree-influence)\n",
            "  Using cached nvidia_cusparse_cu12-12.1.0.106-py3-none-manylinux1_x86_64.whl.metadata (1.6 kB)\n",
            "Collecting nvidia-nccl-cu12==2.20.5 (from torch>=1.9.0->tree-influence)\n",
            "  Using cached nvidia_nccl_cu12-2.20.5-py3-none-manylinux2014_x86_64.whl.metadata (1.8 kB)\n",
            "Collecting nvidia-nvtx-cu12==12.1.105 (from torch>=1.9.0->tree-influence)\n",
            "  Using cached nvidia_nvtx_cu12-12.1.105-py3-none-manylinux1_x86_64.whl.metadata (1.7 kB)\n",
            "Requirement already satisfied: triton==2.3.1 in /usr/local/lib/python3.10/dist-packages (from torch>=1.9.0->tree-influence) (2.3.1)\n",
            "Collecting nvidia-nvjitlink-cu12 (from nvidia-cusolver-cu12==11.4.5.107->torch>=1.9.0->tree-influence)\n",
            "  Using cached nvidia_nvjitlink_cu12-12.6.20-py3-none-manylinux2014_x86_64.whl.metadata (1.5 kB)\n",
            "Requirement already satisfied: MarkupSafe>=2.0 in /usr/local/lib/python3.10/dist-packages (from jinja2->torch>=1.9.0->tree-influence) (2.1.5)\n",
            "Requirement already satisfied: mpmath<1.4,>=1.1.0 in /usr/local/lib/python3.10/dist-packages (from sympy->torch>=1.9.0->tree-influence) (1.3.0)\n",
            "Using cached tree_influence-0.1.7-cp310-cp310-manylinux_2_17_x86_64.manylinux2014_x86_64.whl (1.5 MB)\n",
            "Using cached nvidia_cublas_cu12-12.1.3.1-py3-none-manylinux1_x86_64.whl (410.6 MB)\n",
            "Using cached nvidia_cuda_cupti_cu12-12.1.105-py3-none-manylinux1_x86_64.whl (14.1 MB)\n",
            "Using cached nvidia_cuda_nvrtc_cu12-12.1.105-py3-none-manylinux1_x86_64.whl (23.7 MB)\n",
            "Using cached nvidia_cuda_runtime_cu12-12.1.105-py3-none-manylinux1_x86_64.whl (823 kB)\n",
            "Using cached nvidia_cudnn_cu12-8.9.2.26-py3-none-manylinux1_x86_64.whl (731.7 MB)\n",
            "Using cached nvidia_cufft_cu12-11.0.2.54-py3-none-manylinux1_x86_64.whl (121.6 MB)\n",
            "Using cached nvidia_curand_cu12-10.3.2.106-py3-none-manylinux1_x86_64.whl (56.5 MB)\n",
            "Using cached nvidia_cusolver_cu12-11.4.5.107-py3-none-manylinux1_x86_64.whl (124.2 MB)\n",
            "Using cached nvidia_cusparse_cu12-12.1.0.106-py3-none-manylinux1_x86_64.whl (196.0 MB)\n",
            "Using cached nvidia_nccl_cu12-2.20.5-py3-none-manylinux2014_x86_64.whl (176.2 MB)\n",
            "Using cached nvidia_nvtx_cu12-12.1.105-py3-none-manylinux1_x86_64.whl (99 kB)\n",
            "Using cached nvidia_nvjitlink_cu12-12.6.20-py3-none-manylinux2014_x86_64.whl (19.7 MB)\n",
            "Installing collected packages: nvidia-nvtx-cu12, nvidia-nvjitlink-cu12, nvidia-nccl-cu12, nvidia-curand-cu12, nvidia-cufft-cu12, nvidia-cuda-runtime-cu12, nvidia-cuda-nvrtc-cu12, nvidia-cuda-cupti-cu12, nvidia-cublas-cu12, nvidia-cusparse-cu12, nvidia-cudnn-cu12, nvidia-cusolver-cu12, tree-influence\n",
            "Successfully installed nvidia-cublas-cu12-12.1.3.1 nvidia-cuda-cupti-cu12-12.1.105 nvidia-cuda-nvrtc-cu12-12.1.105 nvidia-cuda-runtime-cu12-12.1.105 nvidia-cudnn-cu12-8.9.2.26 nvidia-cufft-cu12-11.0.2.54 nvidia-curand-cu12-10.3.2.106 nvidia-cusolver-cu12-11.4.5.107 nvidia-cusparse-cu12-12.1.0.106 nvidia-nccl-cu12-2.20.5 nvidia-nvjitlink-cu12-12.6.20 nvidia-nvtx-cu12-12.1.105 tree-influence-0.1.7\n",
            "Time taken: 0.005874156951904297 seconds\n",
            "The entire array: [39 57 60 13 83 20 55 31 16  0 78 59 21 47 11 41 27 34 67 87 22 79 82 24\n",
            " 23 65 12 49 44 51 62 85 63  8 75 32 37 68 30  2  3  4 52  6 18 74  1 76\n",
            " 77 80 19 17 81 15 14 84 26 86 10  5  9 25 61 73 88 58 64 54 53 50 66 48\n",
            " 46 45 43 69 70 38 36 71 33 72 29 89 56 35 42 40  7 28]\n"
          ]
        }
      ]
    },
    {
      "cell_type": "markdown",
      "source": [
        "[39 60 57 13 83 20 59 55 31 27  0 11 16 78 21 82 47 41 34 67 87 22 79 23\n",
        " 24 65 44 12 49 63  8 51 62  4  2 37 68 75 32  3 52 30 85 18 76 77 80 81\n",
        " 25 19 15 17 84 14 74 86 10  9  1  6  5 26 73 88 29 64 58 66 54 53 50 48\n",
        " 69 46 45 89 43 70 71 38 36 72 33 61 40 56 35 28 42  7]"
      ],
      "metadata": {
        "id": "fHtis2kiS_1o"
      }
    }
  ],
  "metadata": {
    "colab": {
      "provenance": [],
      "authorship_tag": "ABX9TyOoIZeKnLDpthaBlT7MnHKF",
      "include_colab_link": true
    },
    "kernelspec": {
      "display_name": "Python 3",
      "name": "python3"
    },
    "language_info": {
      "name": "python"
    }
  },
  "nbformat": 4,
  "nbformat_minor": 0
}